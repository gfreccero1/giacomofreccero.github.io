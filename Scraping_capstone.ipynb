{
 "cells": [
  {
   "cell_type": "markdown",
   "metadata": {},
   "source": [
    "WINE ENTHUSIAST WINE CLASSIFIER, FLAVOR CLASSIFIER, WINE IDENTIFICATION AND RECCOMANDATION SYSTEM"
   ]
  },
  {
   "cell_type": "markdown",
   "metadata": {},
   "source": [
    "SCRAPING FROM WINE ENTHISIAST WITH SELENIUM"
   ]
  },
  {
   "cell_type": "code",
   "execution_count": null,
   "metadata": {},
   "outputs": [],
   "source": [
    "# https://www.winemag.com/?s=&drink_type=wine&country=Italy&page=1"
   ]
  },
  {
   "cell_type": "code",
   "execution_count": 279,
   "metadata": {},
   "outputs": [],
   "source": [
    "import numpy as np\n",
    "\n",
    "import pandas as pd\n",
    "import time\n",
    "import requests\n",
    "from selenium import webdriver\n",
    "from webdriver_manager.chrome import ChromeDriverManager\n",
    "from time import time, sleep\n",
    "from tqdm import tqdm"
   ]
  },
  {
   "cell_type": "code",
   "execution_count": 280,
   "metadata": {},
   "outputs": [],
   "source": [
    "from selenium import webdriver\n",
    "from selenium.webdriver.common.by import By\n",
    "from selenium.webdriver.support.ui import WebDriverWait\n",
    "from selenium.webdriver.support import expected_conditions as EC\n",
    "from selenium.common.exceptions import TimeoutException"
   ]
  },
  {
   "cell_type": "code",
   "execution_count": 281,
   "metadata": {},
   "outputs": [
    {
     "name": "stderr",
     "output_type": "stream",
     "text": [
      "[WDM] - ====== WebDriver manager ======\n",
      "[WDM] - Current google-chrome version is 88.0.4324\n",
      "[WDM] - Get LATEST driver version for 88.0.4324\n",
      "[WDM] - Driver [/Users/giacomo/.wdm/drivers/chromedriver/mac64/88.0.4324.96/chromedriver] found in cache\n"
     ]
    },
    {
     "name": "stdout",
     "output_type": "stream",
     "text": [
      "\n",
      "\n"
     ]
    }
   ],
   "source": [
    "driver = webdriver.Chrome(ChromeDriverManager().install())"
   ]
  },
  {
   "cell_type": "code",
   "execution_count": 283,
   "metadata": {},
   "outputs": [],
   "source": [
    "driver.get('https://www.winemag.com/?s=&drink_type=wine&country=Italy&page=1&search_type=reviews')"
   ]
  },
  {
   "cell_type": "code",
   "execution_count": 284,
   "metadata": {},
   "outputs": [],
   "source": [
    "# timeout = 10\n",
    "# try:\n",
    "#     WebDriverWait(driver, timeout).until(EC.visibility_of_element_located((By.ID, \"Level_1_Category_No1\")))\n",
    "# except TimeoutException:\n",
    "#     driver.quit()"
   ]
  },
  {
   "cell_type": "code",
   "execution_count": 285,
   "metadata": {},
   "outputs": [],
   "source": [
    "# id,name, class"
   ]
  },
  {
   "cell_type": "code",
   "execution_count": 286,
   "metadata": {},
   "outputs": [],
   "source": [
    "# search = driver.find_element_by_name('s')"
   ]
  },
  {
   "cell_type": "code",
   "execution_count": 287,
   "metadata": {},
   "outputs": [],
   "source": [
    "cookies = driver.get_cookies()"
   ]
  },
  {
   "cell_type": "code",
   "execution_count": 288,
   "metadata": {},
   "outputs": [],
   "source": [
    "for cookie in cookies:\n",
    "    if 'expiry' in cookie:\n",
    "        del cookie['expiry']\n",
    "    try:\n",
    "        driver.add_cookie(cookie)\n",
    "    except:\n",
    "        pass"
   ]
  },
  {
   "cell_type": "code",
   "execution_count": 289,
   "metadata": {},
   "outputs": [],
   "source": [
    "driver.get('https://www.winemag.com/?s=&drink_type=wine&country=Italy&page=1&search_type=reviews')"
   ]
  },
  {
   "cell_type": "code",
   "execution_count": 295,
   "metadata": {},
   "outputs": [],
   "source": [
    "link = driver.find_elements_by_class_name(\"see-full\")\n",
    "# link[1].click()\n"
   ]
  },
  {
   "cell_type": "code",
   "execution_count": 296,
   "metadata": {},
   "outputs": [
    {
     "data": {
      "text/plain": [
       "<selenium.webdriver.remote.webelement.WebElement (session=\"ff066f45fa1b00f7a745392b41b42bbc\", element=\"d5f3b3cd-9367-4680-bc8a-20ff6816465c\")>"
      ]
     },
     "execution_count": 296,
     "metadata": {},
     "output_type": "execute_result"
    }
   ],
   "source": [
    "link[0]"
   ]
  },
  {
   "cell_type": "code",
   "execution_count": 297,
   "metadata": {},
   "outputs": [],
   "source": [
    "link[0].click()"
   ]
  },
  {
   "cell_type": "code",
   "execution_count": 298,
   "metadata": {},
   "outputs": [],
   "source": [
    "cookies = driver.get_cookies()\n",
    "for cookie in cookies:\n",
    "    if 'expiry' in cookie:\n",
    "        del cookie['expiry']\n",
    "    try:\n",
    "        driver.add_cookie(cookie)\n",
    "    except:\n",
    "        pass"
   ]
  },
  {
   "cell_type": "code",
   "execution_count": 299,
   "metadata": {},
   "outputs": [],
   "source": [
    "url= 'https://www.winemag.com/?s=&drink_type=wine&country=Italy&page=1&search_type=reviews'"
   ]
  },
  {
   "cell_type": "code",
   "execution_count": 300,
   "metadata": {},
   "outputs": [],
   "source": [
    "driver.get(url)"
   ]
  },
  {
   "cell_type": "code",
   "execution_count": 301,
   "metadata": {},
   "outputs": [],
   "source": [
    "link = driver.find_elements_by_class_name(\"see-full\")"
   ]
  },
  {
   "cell_type": "code",
   "execution_count": 302,
   "metadata": {},
   "outputs": [],
   "source": [
    "link[0].click()"
   ]
  },
  {
   "cell_type": "markdown",
   "metadata": {},
   "source": [
    "ENTER YOUR EMAIL ADDRESS HERE"
   ]
  },
  {
   "cell_type": "code",
   "execution_count": 303,
   "metadata": {},
   "outputs": [],
   "source": [
    "driver.back()"
   ]
  },
  {
   "cell_type": "code",
   "execution_count": 304,
   "metadata": {},
   "outputs": [
    {
     "data": {
      "text/plain": [
       "40"
      ]
     },
     "execution_count": 304,
     "metadata": {},
     "output_type": "execute_result"
    }
   ],
   "source": [
    "lenght_main_page = len(driver.find_elements_by_class_name(\"title\"))\n",
    "lenght_main_page"
   ]
  },
  {
   "cell_type": "code",
   "execution_count": 305,
   "metadata": {},
   "outputs": [
    {
     "data": {
      "text/plain": [
       "20"
      ]
     },
     "execution_count": 305,
     "metadata": {},
     "output_type": "execute_result"
    }
   ],
   "source": [
    "len(link)"
   ]
  },
  {
   "cell_type": "code",
   "execution_count": 310,
   "metadata": {},
   "outputs": [
    {
     "name": "stderr",
     "output_type": "stream",
     "text": [
      "  0%|          | 1/927 [05:29<84:45:54, 329.54s/it]\n"
     ]
    },
    {
     "ename": "ElementClickInterceptedException",
     "evalue": "Message: element click intercepted: Element <span class=\"see-full\">...</span> is not clickable at point (600, 828). Other element would receive the click: <div class=\"reveal-modal-bg\" style=\"display: block;\"></div>\n  (Session info: chrome=88.0.4324.146)\n",
     "output_type": "error",
     "traceback": [
      "\u001b[0;31m---------------------------------------------------------------------------\u001b[0m",
      "\u001b[0;31mAttributeError\u001b[0m                            Traceback (most recent call last)",
      "\u001b[0;32m<ipython-input-310-5f3a6bb937b0>\u001b[0m in \u001b[0;36m<module>\u001b[0;34m\u001b[0m\n\u001b[1;32m     36\u001b[0m     \u001b[0;32mtry\u001b[0m\u001b[0;34m:\u001b[0m\u001b[0;34m\u001b[0m\u001b[0;34m\u001b[0m\u001b[0m\n\u001b[0;32m---> 37\u001b[0;31m         \u001b[0mdriver\u001b[0m\u001b[0;34m.\u001b[0m\u001b[0mfind_elements_by_xpath\u001b[0m\u001b[0;34m(\u001b[0m\u001b[0;34m'//*[@id=\"newsletter-modal\"]/a'\u001b[0m\u001b[0;34m)\u001b[0m\u001b[0;34m.\u001b[0m\u001b[0mclick\u001b[0m\u001b[0;34m(\u001b[0m\u001b[0;34m)\u001b[0m\u001b[0;34m\u001b[0m\u001b[0;34m\u001b[0m\u001b[0m\n\u001b[0m\u001b[1;32m     38\u001b[0m     \u001b[0;32mexcept\u001b[0m\u001b[0;34m:\u001b[0m\u001b[0;34m\u001b[0m\u001b[0;34m\u001b[0m\u001b[0m\n",
      "\u001b[0;31mAttributeError\u001b[0m: 'list' object has no attribute 'click'",
      "\nDuring handling of the above exception, another exception occurred:\n",
      "\u001b[0;31mElementClickInterceptedException\u001b[0m          Traceback (most recent call last)",
      "\u001b[0;32m<ipython-input-310-5f3a6bb937b0>\u001b[0m in \u001b[0;36m<module>\u001b[0;34m\u001b[0m\n\u001b[1;32m     68\u001b[0m         \u001b[0;32mfor\u001b[0m \u001b[0mnum_links\u001b[0m \u001b[0;32min\u001b[0m \u001b[0mrange\u001b[0m\u001b[0;34m(\u001b[0m\u001b[0mlen\u001b[0m\u001b[0;34m(\u001b[0m\u001b[0mlink\u001b[0m\u001b[0;34m)\u001b[0m\u001b[0;34m)\u001b[0m\u001b[0;34m:\u001b[0m\u001b[0;34m\u001b[0m\u001b[0;34m\u001b[0m\u001b[0m\n\u001b[1;32m     69\u001b[0m             \u001b[0mlink\u001b[0m \u001b[0;34m=\u001b[0m \u001b[0mdriver\u001b[0m\u001b[0;34m.\u001b[0m\u001b[0mfind_elements_by_class_name\u001b[0m\u001b[0;34m(\u001b[0m\u001b[0;34m\"see-full\"\u001b[0m\u001b[0;34m)\u001b[0m\u001b[0;34m\u001b[0m\u001b[0;34m\u001b[0m\u001b[0m\n\u001b[0;32m---> 70\u001b[0;31m             \u001b[0mlink\u001b[0m\u001b[0;34m[\u001b[0m\u001b[0mnum_links\u001b[0m\u001b[0;34m]\u001b[0m\u001b[0;34m.\u001b[0m\u001b[0mclick\u001b[0m\u001b[0;34m(\u001b[0m\u001b[0;34m)\u001b[0m\u001b[0;34m\u001b[0m\u001b[0;34m\u001b[0m\u001b[0m\n\u001b[0m\u001b[1;32m     71\u001b[0m \u001b[0;31m#             time.sleep(np.abs(np.random.normal(loc=4,scale=0.5)))\u001b[0m\u001b[0;34m\u001b[0m\u001b[0;34m\u001b[0m\u001b[0;34m\u001b[0m\u001b[0m\n\u001b[1;32m     72\u001b[0m             \u001b[0msleep\u001b[0m\u001b[0;34m(\u001b[0m\u001b[0;36m3.5\u001b[0m\u001b[0;34m)\u001b[0m\u001b[0;34m\u001b[0m\u001b[0;34m\u001b[0m\u001b[0m\n",
      "\u001b[0;32m~/opt/anaconda3/lib/python3.8/site-packages/selenium/webdriver/remote/webelement.py\u001b[0m in \u001b[0;36mclick\u001b[0;34m(self)\u001b[0m\n\u001b[1;32m     78\u001b[0m     \u001b[0;32mdef\u001b[0m \u001b[0mclick\u001b[0m\u001b[0;34m(\u001b[0m\u001b[0mself\u001b[0m\u001b[0;34m)\u001b[0m\u001b[0;34m:\u001b[0m\u001b[0;34m\u001b[0m\u001b[0;34m\u001b[0m\u001b[0m\n\u001b[1;32m     79\u001b[0m         \u001b[0;34m\"\"\"Clicks the element.\"\"\"\u001b[0m\u001b[0;34m\u001b[0m\u001b[0;34m\u001b[0m\u001b[0m\n\u001b[0;32m---> 80\u001b[0;31m         \u001b[0mself\u001b[0m\u001b[0;34m.\u001b[0m\u001b[0m_execute\u001b[0m\u001b[0;34m(\u001b[0m\u001b[0mCommand\u001b[0m\u001b[0;34m.\u001b[0m\u001b[0mCLICK_ELEMENT\u001b[0m\u001b[0;34m)\u001b[0m\u001b[0;34m\u001b[0m\u001b[0;34m\u001b[0m\u001b[0m\n\u001b[0m\u001b[1;32m     81\u001b[0m \u001b[0;34m\u001b[0m\u001b[0m\n\u001b[1;32m     82\u001b[0m     \u001b[0;32mdef\u001b[0m \u001b[0msubmit\u001b[0m\u001b[0;34m(\u001b[0m\u001b[0mself\u001b[0m\u001b[0;34m)\u001b[0m\u001b[0;34m:\u001b[0m\u001b[0;34m\u001b[0m\u001b[0;34m\u001b[0m\u001b[0m\n",
      "\u001b[0;32m~/opt/anaconda3/lib/python3.8/site-packages/selenium/webdriver/remote/webelement.py\u001b[0m in \u001b[0;36m_execute\u001b[0;34m(self, command, params)\u001b[0m\n\u001b[1;32m    631\u001b[0m             \u001b[0mparams\u001b[0m \u001b[0;34m=\u001b[0m \u001b[0;34m{\u001b[0m\u001b[0;34m}\u001b[0m\u001b[0;34m\u001b[0m\u001b[0;34m\u001b[0m\u001b[0m\n\u001b[1;32m    632\u001b[0m         \u001b[0mparams\u001b[0m\u001b[0;34m[\u001b[0m\u001b[0;34m'id'\u001b[0m\u001b[0;34m]\u001b[0m \u001b[0;34m=\u001b[0m \u001b[0mself\u001b[0m\u001b[0;34m.\u001b[0m\u001b[0m_id\u001b[0m\u001b[0;34m\u001b[0m\u001b[0;34m\u001b[0m\u001b[0m\n\u001b[0;32m--> 633\u001b[0;31m         \u001b[0;32mreturn\u001b[0m \u001b[0mself\u001b[0m\u001b[0;34m.\u001b[0m\u001b[0m_parent\u001b[0m\u001b[0;34m.\u001b[0m\u001b[0mexecute\u001b[0m\u001b[0;34m(\u001b[0m\u001b[0mcommand\u001b[0m\u001b[0;34m,\u001b[0m \u001b[0mparams\u001b[0m\u001b[0;34m)\u001b[0m\u001b[0;34m\u001b[0m\u001b[0;34m\u001b[0m\u001b[0m\n\u001b[0m\u001b[1;32m    634\u001b[0m \u001b[0;34m\u001b[0m\u001b[0m\n\u001b[1;32m    635\u001b[0m     \u001b[0;32mdef\u001b[0m \u001b[0mfind_element\u001b[0m\u001b[0;34m(\u001b[0m\u001b[0mself\u001b[0m\u001b[0;34m,\u001b[0m \u001b[0mby\u001b[0m\u001b[0;34m=\u001b[0m\u001b[0mBy\u001b[0m\u001b[0;34m.\u001b[0m\u001b[0mID\u001b[0m\u001b[0;34m,\u001b[0m \u001b[0mvalue\u001b[0m\u001b[0;34m=\u001b[0m\u001b[0;32mNone\u001b[0m\u001b[0;34m)\u001b[0m\u001b[0;34m:\u001b[0m\u001b[0;34m\u001b[0m\u001b[0;34m\u001b[0m\u001b[0m\n",
      "\u001b[0;32m~/opt/anaconda3/lib/python3.8/site-packages/selenium/webdriver/remote/webdriver.py\u001b[0m in \u001b[0;36mexecute\u001b[0;34m(self, driver_command, params)\u001b[0m\n\u001b[1;32m    319\u001b[0m         \u001b[0mresponse\u001b[0m \u001b[0;34m=\u001b[0m \u001b[0mself\u001b[0m\u001b[0;34m.\u001b[0m\u001b[0mcommand_executor\u001b[0m\u001b[0;34m.\u001b[0m\u001b[0mexecute\u001b[0m\u001b[0;34m(\u001b[0m\u001b[0mdriver_command\u001b[0m\u001b[0;34m,\u001b[0m \u001b[0mparams\u001b[0m\u001b[0;34m)\u001b[0m\u001b[0;34m\u001b[0m\u001b[0;34m\u001b[0m\u001b[0m\n\u001b[1;32m    320\u001b[0m         \u001b[0;32mif\u001b[0m \u001b[0mresponse\u001b[0m\u001b[0;34m:\u001b[0m\u001b[0;34m\u001b[0m\u001b[0;34m\u001b[0m\u001b[0m\n\u001b[0;32m--> 321\u001b[0;31m             \u001b[0mself\u001b[0m\u001b[0;34m.\u001b[0m\u001b[0merror_handler\u001b[0m\u001b[0;34m.\u001b[0m\u001b[0mcheck_response\u001b[0m\u001b[0;34m(\u001b[0m\u001b[0mresponse\u001b[0m\u001b[0;34m)\u001b[0m\u001b[0;34m\u001b[0m\u001b[0;34m\u001b[0m\u001b[0m\n\u001b[0m\u001b[1;32m    322\u001b[0m             response['value'] = self._unwrap_value(\n\u001b[1;32m    323\u001b[0m                 response.get('value', None))\n",
      "\u001b[0;32m~/opt/anaconda3/lib/python3.8/site-packages/selenium/webdriver/remote/errorhandler.py\u001b[0m in \u001b[0;36mcheck_response\u001b[0;34m(self, response)\u001b[0m\n\u001b[1;32m    240\u001b[0m                 \u001b[0malert_text\u001b[0m \u001b[0;34m=\u001b[0m \u001b[0mvalue\u001b[0m\u001b[0;34m[\u001b[0m\u001b[0;34m'alert'\u001b[0m\u001b[0;34m]\u001b[0m\u001b[0;34m.\u001b[0m\u001b[0mget\u001b[0m\u001b[0;34m(\u001b[0m\u001b[0;34m'text'\u001b[0m\u001b[0;34m)\u001b[0m\u001b[0;34m\u001b[0m\u001b[0;34m\u001b[0m\u001b[0m\n\u001b[1;32m    241\u001b[0m             \u001b[0;32mraise\u001b[0m \u001b[0mexception_class\u001b[0m\u001b[0;34m(\u001b[0m\u001b[0mmessage\u001b[0m\u001b[0;34m,\u001b[0m \u001b[0mscreen\u001b[0m\u001b[0;34m,\u001b[0m \u001b[0mstacktrace\u001b[0m\u001b[0;34m,\u001b[0m \u001b[0malert_text\u001b[0m\u001b[0;34m)\u001b[0m\u001b[0;34m\u001b[0m\u001b[0;34m\u001b[0m\u001b[0m\n\u001b[0;32m--> 242\u001b[0;31m         \u001b[0;32mraise\u001b[0m \u001b[0mexception_class\u001b[0m\u001b[0;34m(\u001b[0m\u001b[0mmessage\u001b[0m\u001b[0;34m,\u001b[0m \u001b[0mscreen\u001b[0m\u001b[0;34m,\u001b[0m \u001b[0mstacktrace\u001b[0m\u001b[0;34m)\u001b[0m\u001b[0;34m\u001b[0m\u001b[0;34m\u001b[0m\u001b[0m\n\u001b[0m\u001b[1;32m    243\u001b[0m \u001b[0;34m\u001b[0m\u001b[0m\n\u001b[1;32m    244\u001b[0m     \u001b[0;32mdef\u001b[0m \u001b[0m_value_or_default\u001b[0m\u001b[0;34m(\u001b[0m\u001b[0mself\u001b[0m\u001b[0;34m,\u001b[0m \u001b[0mobj\u001b[0m\u001b[0;34m,\u001b[0m \u001b[0mkey\u001b[0m\u001b[0;34m,\u001b[0m \u001b[0mdefault\u001b[0m\u001b[0;34m)\u001b[0m\u001b[0;34m:\u001b[0m\u001b[0;34m\u001b[0m\u001b[0;34m\u001b[0m\u001b[0m\n",
      "\u001b[0;31mElementClickInterceptedException\u001b[0m: Message: element click intercepted: Element <span class=\"see-full\">...</span> is not clickable at point (600, 828). Other element would receive the click: <div class=\"reveal-modal-bg\" style=\"display: block;\"></div>\n  (Session info: chrome=88.0.4324.146)\n"
     ]
    }
   ],
   "source": [
    "title= []\n",
    "title_inside= []\n",
    "review=[]\n",
    "taster=[]\n",
    "rating=[]\n",
    "price=[]\n",
    "\n",
    "designation=[]\n",
    "variety=[]\n",
    "appellation=[]\n",
    "winery=[]\n",
    "alc=[]\n",
    "bot=[]\n",
    "category=[]\n",
    "importer=[]\n",
    "date_published=[]\n",
    "# for j in range(1,501):\n",
    "#     print(f'pages scraped in tranche {(j-1)/20} : \\n', list(range(j,20)))\n",
    "#     cookies = driver.get_cookies()\n",
    "#     for cookie in cookies:\n",
    "#         if 'expiry' in cookie:\n",
    "#             del cookie['expiry']\n",
    "#         try:\n",
    "#             driver.add_cookie(cookie)\n",
    "#         except:\n",
    "#             pass\n",
    "    \n",
    "    \n",
    "    \n",
    "    \n",
    "    \n",
    "for page in tqdm(range(1192,2119)):\n",
    "    url= 'https://www.winemag.com/?s=&drink_type=wine&country=Italy&page={}&search_type=reviews'.format(page)\n",
    "#     sleep(np.abs(np.random.normal(loc=2,scale=0.5)))\n",
    "    driver.get(url)\n",
    "    try:\n",
    "        driver.find_elements_by_xpath('//*[@id=\"newsletter-modal\"]/a').click()\n",
    "    except:\n",
    "#     except:\n",
    "#         continue\n",
    "#             i think it blocks here\n",
    "#         print(f'page {page}')\n",
    "        cookies = driver.get_cookies()\n",
    "        for cookie in cookies:\n",
    "            if 'expiry' in cookie:\n",
    "                del cookie['expiry']\n",
    "            try:\n",
    "                driver.add_cookie(cookie)\n",
    "            except:\n",
    "                pass\n",
    "        link = driver.find_elements_by_class_name(\"see-full\")\n",
    "\n",
    "        # for num_line in range(lenght_main_page):\n",
    "        #     WebDriverWait(driver,5).until(EC.presence_of_all_elements_located((By.CLASS_NAME, \"title\")))\n",
    "        #     if driver.find_elements_by_class_name(\n",
    "        #         \"title\")[num_line].text.strip() != '':\n",
    "        #         try:\n",
    "        #             title.append(driver.find_elements_by_class_name(\"title\")[num_line].text.strip())\n",
    "        #         except:\n",
    "        #             title.append(np.nan)\n",
    "        sleep(3.5)\n",
    "#         time.sleep(np.abs(np.random.normal(loc=4,scale=0.5)))\n",
    "    #         driver.implicitly_wait(5)\n",
    "    #     WebDriverWait(driver,3).until(EC.presence_of_element_located((By.CLASS_NAME, \"see-full\")))\n",
    "\n",
    "        # for start in tqdm(range(0, len(link),1)):\n",
    "        #     sleep(np.abs(np.random.normal(loc=3,scale=0.5)))\n",
    "        for num_links in range(len(link)):\n",
    "            link = driver.find_elements_by_class_name(\"see-full\")\n",
    "            link[num_links].click()  \n",
    "#             time.sleep(np.abs(np.random.normal(loc=4,scale=0.5)))\n",
    "            sleep(3.5)\n",
    "\n",
    "\n",
    "\n",
    "            try:\n",
    "            #             driver.implicitly_wait(30)\n",
    "        #         WebDriverWait(driver,3).until(EC.presence_of_element_located((By.CLASS_NAME, \"header__title\")))\n",
    "                title_inside.append(driver.find_elements_by_class_name(\"header__title\")[0].text.strip())\n",
    "            except:\n",
    "                title_inside.append(np.nan)   \n",
    "            try:\n",
    "                review.append(driver.find_elements_by_class_name(\"description\")[0].text.strip())\n",
    "            except:\n",
    "                review.append(np.nan)\n",
    "\n",
    "            try:\n",
    "                taster.append(driver.find_elements_by_class_name(\"taster-area\")[0].text.strip())\n",
    "            except:\n",
    "                taster.append(np.nan)\n",
    "\n",
    "            try:\n",
    "                rating.append(driver.find_elements_by_xpath(\n",
    "                \"//div[@class='info medium-9 columns rating']\")[0].text.strip())\n",
    "            except:\n",
    "                rating.append(np.nan)\n",
    "\n",
    "            try:\n",
    "                price.append(driver.find_elements_by_xpath(\n",
    "                \"//div[@class='info medium-9 columns ']\")[0].text.strip())\n",
    "            except:\n",
    "                price.append(np.nan)\n",
    "\n",
    "\n",
    "        # NOW THINGS CAN CHANGE ACCORGIN TO THE PRESENCE OR NOT OF DESIGNATION\n",
    "    #         WebDriverWait(driver,3).until(EC.presence_of_element_located((By.XPATH,\"//div[@class='info-label medium-7 columns']\")))\n",
    "            if driver.find_elements_by_xpath(\n",
    "            \"//div[@class='info-label medium-7 columns']\")[2].text.strip()=='DESIGNATION' :\n",
    "                try:\n",
    "                    designation.append(driver.find_elements_by_xpath(\n",
    "            \"//div[@class='info medium-9 columns ']\")[1].text.strip())\n",
    "                except:\n",
    "                    designation.append(np.nan)\n",
    "                try:\n",
    "                    variety.append(driver.find_elements_by_xpath(\n",
    "                        \"//div[@class='info medium-9 columns ']\")[2].text.strip())\n",
    "                except:\n",
    "                    variety.append(np.nan)\n",
    "                try:\n",
    "                    appellation.append(driver.find_elements_by_xpath(\n",
    "                    \"//div[@class='info medium-9 columns ']\")[3].text.strip())\n",
    "                except:\n",
    "                    appellation.append(np.nan)\n",
    "                try:\n",
    "                    winery.append(driver.find_elements_by_xpath(\n",
    "                    \"//div[@class='info medium-9 columns ']\")[4].text.strip())\n",
    "                except:\n",
    "                    winery.append(np.nan)\n",
    "\n",
    "            else:\n",
    "                designation.append(np.nan)\n",
    "                try:\n",
    "                    variety.append(driver.find_elements_by_xpath(\n",
    "                    \"//div[@class='info medium-9 columns ']\")[1].text.strip())\n",
    "                except:\n",
    "                    variety.append(np.nan)\n",
    "\n",
    "                try:\n",
    "                    appellation.append(driver.find_elements_by_xpath(\n",
    "                    \"//div[@class='info medium-9 columns ']\")[2].text.strip())\n",
    "                except:\n",
    "                    appellation.append(np.nan)\n",
    "                try:\n",
    "                    winery.append(driver.find_elements_by_xpath(\n",
    "                    \"//div[@class='info medium-9 columns ']\")[3].text.strip())\n",
    "                except:\n",
    "                    winery.append(np.nan)\n",
    "\n",
    "\n",
    "            try:\n",
    "                alc.append(driver.find_elements_by_xpath(\n",
    "                \"//div[@class='info small-9 columns']\")[0].text.strip())\n",
    "            except:\n",
    "                alc.append(np.nan)\n",
    "\n",
    "            try:\n",
    "                bot.append(driver.find_elements_by_xpath(\n",
    "                \"//div[@class='info small-9 columns']\")[1].text.strip())\n",
    "            except:\n",
    "                bot.append(np.nan)\n",
    "\n",
    "            try:\n",
    "                category.append(driver.find_elements_by_xpath(\n",
    "                \"//div[@class='info small-9 columns']\")[2].text.strip())\n",
    "            except:\n",
    "                category.append(np.nan)\n",
    "\n",
    "            try:\n",
    "                importer.append(driver.find_elements_by_xpath(\n",
    "                \"//div[@class='info small-9 columns']\")[3].text.strip())\n",
    "            except:\n",
    "                importer.append(np.nan)\n",
    "\n",
    "            try:\n",
    "                date_published.append(driver.find_elements_by_xpath(\n",
    "                \"//div[@class='info small-9 columns']\")[4].text.strip())\n",
    "            except:\n",
    "                date_published.append(np.nan)\n",
    "            link = driver.find_elements_by_class_name(\"see-full\")\n",
    "            driver.back()\n",
    "\n",
    "\n"
   ]
  },
  {
   "cell_type": "code",
   "execution_count": 276,
   "metadata": {},
   "outputs": [],
   "source": [
    "df= pd.DataFrame({'name': title_inside,\n",
    "                     'review': review,\n",
    "                    'taster': taster,\n",
    "                    'rating': rating,\n",
    "                    'price': price,\n",
    "                    'designation': designation,\n",
    "                    'variety': variety,\n",
    "                    'appellation': appellation,\n",
    "                    'winery': winery,\n",
    "                    'alc': alc,\n",
    "              'bottle_size': bot,\n",
    "              'category': category,\n",
    "                    'importer': importer,\n",
    "                    'review_date': date_published\n",
    "                    })\n"
   ]
  },
  {
   "cell_type": "code",
   "execution_count": 277,
   "metadata": {},
   "outputs": [
    {
     "data": {
      "text/html": [
       "<div>\n",
       "<style scoped>\n",
       "    .dataframe tbody tr th:only-of-type {\n",
       "        vertical-align: middle;\n",
       "    }\n",
       "\n",
       "    .dataframe tbody tr th {\n",
       "        vertical-align: top;\n",
       "    }\n",
       "\n",
       "    .dataframe thead th {\n",
       "        text-align: right;\n",
       "    }\n",
       "</style>\n",
       "<table border=\"1\" class=\"dataframe\">\n",
       "  <thead>\n",
       "    <tr style=\"text-align: right;\">\n",
       "      <th></th>\n",
       "      <th>name</th>\n",
       "      <th>review</th>\n",
       "      <th>taster</th>\n",
       "      <th>rating</th>\n",
       "      <th>price</th>\n",
       "      <th>designation</th>\n",
       "      <th>variety</th>\n",
       "      <th>appellation</th>\n",
       "      <th>winery</th>\n",
       "      <th>alc</th>\n",
       "      <th>bottle_size</th>\n",
       "      <th>category</th>\n",
       "      <th>importer</th>\n",
       "      <th>review_date</th>\n",
       "    </tr>\n",
       "  </thead>\n",
       "  <tbody>\n",
       "    <tr>\n",
       "      <th>0</th>\n",
       "      <td>Cantina Terlano 2013 Terlaner Classico White (...</td>\n",
       "      <td>A blend of 60% Pinot Bianco, 30% Chardonnay an...</td>\n",
       "      <td>KERIN O’KEEFE</td>\n",
       "      <td>88</td>\n",
       "      <td>$25,BUY NOW</td>\n",
       "      <td>Terlaner Classico</td>\n",
       "      <td>White Blend</td>\n",
       "      <td>Alto Adige, Northeastern Italy, Italy</td>\n",
       "      <td>Cantina Terlano</td>\n",
       "      <td>13.5%</td>\n",
       "      <td>750 ml</td>\n",
       "      <td>White</td>\n",
       "      <td>Banville Wine Merchants</td>\n",
       "      <td>6/1/2014</td>\n",
       "    </tr>\n",
       "    <tr>\n",
       "      <th>1</th>\n",
       "      <td>Zenato 2013 San Benedetto (Lugana)\\nBest Buy</td>\n",
       "      <td>Yellow peach, green apple, Bartlett pear and l...</td>\n",
       "      <td>KERIN O’KEEFE</td>\n",
       "      <td>88</td>\n",
       "      <td>$13,BUY NOW</td>\n",
       "      <td>San Benedetto</td>\n",
       "      <td>Turbiana, Italian White</td>\n",
       "      <td>Lugana, Lombardy, Italy</td>\n",
       "      <td>Zenato</td>\n",
       "      <td>13%</td>\n",
       "      <td>750 ml</td>\n",
       "      <td>White</td>\n",
       "      <td>Leonardo LoCascio Selections–The Winebow Group</td>\n",
       "      <td>6/1/2014</td>\n",
       "    </tr>\n",
       "    <tr>\n",
       "      <th>2</th>\n",
       "      <td>Abbazia di Novacella 2012 Kerner (Alto Adige V...</td>\n",
       "      <td>Made from the Kerner grape, which is a hybrid ...</td>\n",
       "      <td>KERIN O’KEEFE</td>\n",
       "      <td>88</td>\n",
       "      <td>$20,BUY NOW</td>\n",
       "      <td>NaN</td>\n",
       "      <td>Kerner, Other White</td>\n",
       "      <td>Alto Adige Valle Isarco, Northeastern Italy, I...</td>\n",
       "      <td>Abbazia di Novacella</td>\n",
       "      <td>13.5%</td>\n",
       "      <td>750 ml</td>\n",
       "      <td>White</td>\n",
       "      <td>Abbazia di Novacella USA</td>\n",
       "      <td>6/1/2014</td>\n",
       "    </tr>\n",
       "    <tr>\n",
       "      <th>3</th>\n",
       "      <td>Abbazia di Novacella 2012 Praepositus Sylvaner...</td>\n",
       "      <td>Aromas recall fragrant spring flowers, white t...</td>\n",
       "      <td>KERIN O’KEEFE</td>\n",
       "      <td>88</td>\n",
       "      <td>$30,BUY NOW</td>\n",
       "      <td>Praepositus</td>\n",
       "      <td>Sylvaner, Other White</td>\n",
       "      <td>Alto Adige Valle Isarco, Northeastern Italy, I...</td>\n",
       "      <td>Abbazia di Novacella</td>\n",
       "      <td>13.5%</td>\n",
       "      <td>750 ml</td>\n",
       "      <td>White</td>\n",
       "      <td>Abbazia di Novacella USA</td>\n",
       "      <td>6/1/2014</td>\n",
       "    </tr>\n",
       "    <tr>\n",
       "      <th>4</th>\n",
       "      <td>Andriano 2013 Pinot Grigio (Alto Adige)</td>\n",
       "      <td>Savory and medium-bodied, it's loaded with sen...</td>\n",
       "      <td>KERIN O’KEEFE</td>\n",
       "      <td>88</td>\n",
       "      <td>$20,BUY NOW</td>\n",
       "      <td>NaN</td>\n",
       "      <td>Pinot Grigio</td>\n",
       "      <td>Alto Adige, Northeastern Italy, Italy</td>\n",
       "      <td>Andriano</td>\n",
       "      <td>13.5%</td>\n",
       "      <td>750 ml</td>\n",
       "      <td>White</td>\n",
       "      <td>Banville Wine Merchants</td>\n",
       "      <td>6/1/2014</td>\n",
       "    </tr>\n",
       "    <tr>\n",
       "      <th>...</th>\n",
       "      <td>...</td>\n",
       "      <td>...</td>\n",
       "      <td>...</td>\n",
       "      <td>...</td>\n",
       "      <td>...</td>\n",
       "      <td>...</td>\n",
       "      <td>...</td>\n",
       "      <td>...</td>\n",
       "      <td>...</td>\n",
       "      <td>...</td>\n",
       "      <td>...</td>\n",
       "      <td>...</td>\n",
       "      <td>...</td>\n",
       "      <td>...</td>\n",
       "    </tr>\n",
       "    <tr>\n",
       "      <th>2727</th>\n",
       "      <td>La Torre 2008 Brunello di Montalcino</td>\n",
       "      <td>Pretty coffee and tobacco aromas add weight an...</td>\n",
       "      <td>NaN</td>\n",
       "      <td>89</td>\n",
       "      <td>$60,BUY NOW</td>\n",
       "      <td>NaN</td>\n",
       "      <td>Sangiovese Grosso, Sangiovese</td>\n",
       "      <td>Brunello di Montalcino, Tuscany, Italy</td>\n",
       "      <td>La Torre</td>\n",
       "      <td>14%</td>\n",
       "      <td>750 ml</td>\n",
       "      <td>Red</td>\n",
       "      <td>Rosenthal Wine Merchant</td>\n",
       "      <td>5/1/2013</td>\n",
       "    </tr>\n",
       "    <tr>\n",
       "      <th>2728</th>\n",
       "      <td>La Collina dei Lecci 2007 Riserva (Brunello di...</td>\n",
       "      <td>Subtle aromas of dark fruit and leather give t...</td>\n",
       "      <td>NaN</td>\n",
       "      <td>89</td>\n",
       "      <td>$52,BUY NOW</td>\n",
       "      <td>Riserva</td>\n",
       "      <td>Sangiovese Grosso, Sangiovese</td>\n",
       "      <td>Brunello di Montalcino, Tuscany, Italy</td>\n",
       "      <td>La Collina dei Lecci</td>\n",
       "      <td>14%</td>\n",
       "      <td>750 ml</td>\n",
       "      <td>Red</td>\n",
       "      <td>Monsieur Touton Selection Ltd</td>\n",
       "      <td>5/1/2013</td>\n",
       "    </tr>\n",
       "    <tr>\n",
       "      <th>2729</th>\n",
       "      <td>La Palazzetta 2008 Brunello di Montalcino</td>\n",
       "      <td>Here is an easygoing and crisp Brunello from t...</td>\n",
       "      <td>NaN</td>\n",
       "      <td>89</td>\n",
       "      <td>$58,BUY NOW</td>\n",
       "      <td>NaN</td>\n",
       "      <td>Sangiovese Grosso, Sangiovese</td>\n",
       "      <td>Brunello di Montalcino, Tuscany, Italy</td>\n",
       "      <td>La Palazzetta</td>\n",
       "      <td>14.5%</td>\n",
       "      <td>750 ml</td>\n",
       "      <td>Red</td>\n",
       "      <td>World Wide Cellars</td>\n",
       "      <td>5/1/2013</td>\n",
       "    </tr>\n",
       "    <tr>\n",
       "      <th>2730</th>\n",
       "      <td>Armilla 2008 Brunello di Montalcino</td>\n",
       "      <td>This Brunello is packed tight with strong arom...</td>\n",
       "      <td>NaN</td>\n",
       "      <td>89</td>\n",
       "      <td>$55,BUY NOW</td>\n",
       "      <td>NaN</td>\n",
       "      <td>Sangiovese Grosso, Sangiovese</td>\n",
       "      <td>Brunello di Montalcino, Tuscany, Italy</td>\n",
       "      <td>Armilla</td>\n",
       "      <td>N/A</td>\n",
       "      <td>750 ml</td>\n",
       "      <td>Red</td>\n",
       "      <td>J.A.O. Wine Imports</td>\n",
       "      <td>5/1/2013</td>\n",
       "    </tr>\n",
       "    <tr>\n",
       "      <th>2731</th>\n",
       "      <td>Piombaia Rossi-Cantini 2008 Brunello di Montal...</td>\n",
       "      <td>This is a hearty and masculine Brunello that i...</td>\n",
       "      <td>NaN</td>\n",
       "      <td>89</td>\n",
       "      <td>$57,BUY NOW</td>\n",
       "      <td>NaN</td>\n",
       "      <td>Sangiovese Grosso, Sangiovese</td>\n",
       "      <td>Brunello di Montalcino, Tuscany, Italy</td>\n",
       "      <td>Piombaia Rossi-Cantini</td>\n",
       "      <td>13.5%</td>\n",
       "      <td>750 ml</td>\n",
       "      <td>Red</td>\n",
       "      <td>Good Earth Wines</td>\n",
       "      <td>5/1/2013</td>\n",
       "    </tr>\n",
       "  </tbody>\n",
       "</table>\n",
       "<p>2732 rows × 14 columns</p>\n",
       "</div>"
      ],
      "text/plain": [
       "                                                   name  \\\n",
       "0     Cantina Terlano 2013 Terlaner Classico White (...   \n",
       "1          Zenato 2013 San Benedetto (Lugana)\\nBest Buy   \n",
       "2     Abbazia di Novacella 2012 Kerner (Alto Adige V...   \n",
       "3     Abbazia di Novacella 2012 Praepositus Sylvaner...   \n",
       "4               Andriano 2013 Pinot Grigio (Alto Adige)   \n",
       "...                                                 ...   \n",
       "2727               La Torre 2008 Brunello di Montalcino   \n",
       "2728  La Collina dei Lecci 2007 Riserva (Brunello di...   \n",
       "2729          La Palazzetta 2008 Brunello di Montalcino   \n",
       "2730                Armilla 2008 Brunello di Montalcino   \n",
       "2731  Piombaia Rossi-Cantini 2008 Brunello di Montal...   \n",
       "\n",
       "                                                 review         taster rating  \\\n",
       "0     A blend of 60% Pinot Bianco, 30% Chardonnay an...  KERIN O’KEEFE     88   \n",
       "1     Yellow peach, green apple, Bartlett pear and l...  KERIN O’KEEFE     88   \n",
       "2     Made from the Kerner grape, which is a hybrid ...  KERIN O’KEEFE     88   \n",
       "3     Aromas recall fragrant spring flowers, white t...  KERIN O’KEEFE     88   \n",
       "4     Savory and medium-bodied, it's loaded with sen...  KERIN O’KEEFE     88   \n",
       "...                                                 ...            ...    ...   \n",
       "2727  Pretty coffee and tobacco aromas add weight an...            NaN     89   \n",
       "2728  Subtle aromas of dark fruit and leather give t...            NaN     89   \n",
       "2729  Here is an easygoing and crisp Brunello from t...            NaN     89   \n",
       "2730  This Brunello is packed tight with strong arom...            NaN     89   \n",
       "2731  This is a hearty and masculine Brunello that i...            NaN     89   \n",
       "\n",
       "            price        designation                        variety  \\\n",
       "0     $25,BUY NOW  Terlaner Classico                    White Blend   \n",
       "1     $13,BUY NOW      San Benedetto        Turbiana, Italian White   \n",
       "2     $20,BUY NOW                NaN            Kerner, Other White   \n",
       "3     $30,BUY NOW        Praepositus          Sylvaner, Other White   \n",
       "4     $20,BUY NOW                NaN                   Pinot Grigio   \n",
       "...           ...                ...                            ...   \n",
       "2727  $60,BUY NOW                NaN  Sangiovese Grosso, Sangiovese   \n",
       "2728  $52,BUY NOW            Riserva  Sangiovese Grosso, Sangiovese   \n",
       "2729  $58,BUY NOW                NaN  Sangiovese Grosso, Sangiovese   \n",
       "2730  $55,BUY NOW                NaN  Sangiovese Grosso, Sangiovese   \n",
       "2731  $57,BUY NOW                NaN  Sangiovese Grosso, Sangiovese   \n",
       "\n",
       "                                            appellation  \\\n",
       "0                 Alto Adige, Northeastern Italy, Italy   \n",
       "1                               Lugana, Lombardy, Italy   \n",
       "2     Alto Adige Valle Isarco, Northeastern Italy, I...   \n",
       "3     Alto Adige Valle Isarco, Northeastern Italy, I...   \n",
       "4                 Alto Adige, Northeastern Italy, Italy   \n",
       "...                                                 ...   \n",
       "2727             Brunello di Montalcino, Tuscany, Italy   \n",
       "2728             Brunello di Montalcino, Tuscany, Italy   \n",
       "2729             Brunello di Montalcino, Tuscany, Italy   \n",
       "2730             Brunello di Montalcino, Tuscany, Italy   \n",
       "2731             Brunello di Montalcino, Tuscany, Italy   \n",
       "\n",
       "                      winery    alc bottle_size category  \\\n",
       "0            Cantina Terlano  13.5%      750 ml    White   \n",
       "1                     Zenato    13%      750 ml    White   \n",
       "2       Abbazia di Novacella  13.5%      750 ml    White   \n",
       "3       Abbazia di Novacella  13.5%      750 ml    White   \n",
       "4                   Andriano  13.5%      750 ml    White   \n",
       "...                      ...    ...         ...      ...   \n",
       "2727                La Torre    14%      750 ml      Red   \n",
       "2728    La Collina dei Lecci    14%      750 ml      Red   \n",
       "2729           La Palazzetta  14.5%      750 ml      Red   \n",
       "2730                 Armilla    N/A      750 ml      Red   \n",
       "2731  Piombaia Rossi-Cantini  13.5%      750 ml      Red   \n",
       "\n",
       "                                            importer review_date  \n",
       "0                            Banville Wine Merchants    6/1/2014  \n",
       "1     Leonardo LoCascio Selections–The Winebow Group    6/1/2014  \n",
       "2                           Abbazia di Novacella USA    6/1/2014  \n",
       "3                           Abbazia di Novacella USA    6/1/2014  \n",
       "4                            Banville Wine Merchants    6/1/2014  \n",
       "...                                              ...         ...  \n",
       "2727                         Rosenthal Wine Merchant    5/1/2013  \n",
       "2728                   Monsieur Touton Selection Ltd    5/1/2013  \n",
       "2729                              World Wide Cellars    5/1/2013  \n",
       "2730                             J.A.O. Wine Imports    5/1/2013  \n",
       "2731                                Good Earth Wines    5/1/2013  \n",
       "\n",
       "[2732 rows x 14 columns]"
      ]
     },
     "execution_count": 277,
     "metadata": {},
     "output_type": "execute_result"
    }
   ],
   "source": [
    "df"
   ]
  },
  {
   "cell_type": "code",
   "execution_count": 1180,
   "metadata": {},
   "outputs": [
    {
     "data": {
      "text/plain": [
       "2142"
      ]
     },
     "execution_count": 1180,
     "metadata": {},
     "output_type": "execute_result"
    }
   ],
   "source": [
    "len(review)"
   ]
  },
  {
   "cell_type": "code",
   "execution_count": 1179,
   "metadata": {},
   "outputs": [
    {
     "data": {
      "text/plain": [
       "2141"
      ]
     },
     "execution_count": 1179,
     "metadata": {},
     "output_type": "execute_result"
    }
   ],
   "source": [
    "len(date_published)"
   ]
  },
  {
   "cell_type": "code",
   "execution_count": 118,
   "metadata": {},
   "outputs": [],
   "source": [
    "# df2= pd.DataFrame({'name': title_inside,\n",
    "#                      'review': review,\n",
    "#                     'taster': taster,\n",
    "#                     'rating': rating,\n",
    "#                     'price': price,\n",
    "#                     'designation': designation,\n",
    "#                     'variety': variety,\n",
    "#                     'appellation': appellation,\n",
    "#                     'winery': winery,\n",
    "#                     'alc': alc,\n",
    "#               'bottle_size': bot,\n",
    "#               'category': category,\n",
    "#                     'importer': importer,\n",
    "#                     'review_date': date_published\n",
    "#                     })\n",
    "df2= pd.DataFrame()\n",
    "df2['name'] = title_inside[0:2794]\n",
    "df2['review'] = review[0:2794]\n",
    "df2['taster'] = taster[0:2794]\n",
    "df2['rating'] = rating[0:2794]\n",
    "df2['price'] = price[0:2794]\n",
    "df2['designation'] = designation[0:2794]\n",
    "df2['variety'] = variety[0:2794]\n",
    "df2['appellation'] = appellation[0:2794]\n",
    "df2['winery'] = winery[0:2794]\n",
    "df2['alc'] = alc[0:2794]\n",
    "df2['bottle_size'] = bot[0:2794]\n",
    "df2['category'] = category[0:2794]\n",
    "df2['importer'] = importer[0:2794]\n",
    "df2['review_date'] = date_published[0:2794]\n",
    "\n",
    "\n"
   ]
  },
  {
   "cell_type": "code",
   "execution_count": 1169,
   "metadata": {},
   "outputs": [],
   "source": [
    "# df.to_csv(\"204_244_pages.csv\", encoding=\"utf-8\")"
   ]
  },
  {
   "cell_type": "code",
   "execution_count": 278,
   "metadata": {},
   "outputs": [],
   "source": [
    "# df.to_csv(\"1056_1192_pages.csv\", encoding=\"utf-8\")"
   ]
  },
  {
   "cell_type": "code",
   "execution_count": 486,
   "metadata": {},
   "outputs": [
    {
     "data": {
      "text/plain": [
       "12.916666666666666"
      ]
     },
     "execution_count": 486,
     "metadata": {},
     "output_type": "execute_result"
    }
   ],
   "source": [
    "0.775*1000/60\n",
    "\n"
   ]
  },
  {
   "cell_type": "code",
   "execution_count": 401,
   "metadata": {},
   "outputs": [
    {
     "data": {
      "text/plain": [
       "[1, 2, 3, 4]"
      ]
     },
     "execution_count": 401,
     "metadata": {},
     "output_type": "execute_result"
    }
   ],
   "source": [
    "list(range(1,6))"
   ]
  },
  {
   "cell_type": "code",
   "execution_count": 414,
   "metadata": {},
   "outputs": [],
   "source": [
    "# df.to_csv(\"first_100.csv\", encoding=\"utf-8\")"
   ]
  },
  {
   "cell_type": "code",
   "execution_count": 393,
   "metadata": {},
   "outputs": [
    {
     "data": {
      "text/plain": [
       "'Allegrini 2016 Amarone della Valpolicella Classico\\nCellar Selection'"
      ]
     },
     "execution_count": 393,
     "metadata": {},
     "output_type": "execute_result"
    }
   ],
   "source": [
    "df.name[0]"
   ]
  },
  {
   "cell_type": "code",
   "execution_count": 357,
   "metadata": {},
   "outputs": [
    {
     "data": {
      "text/plain": [
       "['750 ml']"
      ]
     },
     "execution_count": 357,
     "metadata": {},
     "output_type": "execute_result"
    }
   ],
   "source": [
    "bot"
   ]
  },
  {
   "cell_type": "code",
   "execution_count": 327,
   "metadata": {},
   "outputs": [
    {
     "data": {
      "text/plain": [
       "'DESIGNATION'"
      ]
     },
     "execution_count": 327,
     "metadata": {},
     "output_type": "execute_result"
    }
   ],
   "source": [
    "link = driver.find_elements_by_class_name(\"see-full\")\n",
    "driver.find_elements_by_xpath(\"//div[@class='info-label medium-7 columns']\")[2].text.strip()"
   ]
  },
  {
   "cell_type": "code",
   "execution_count": 332,
   "metadata": {},
   "outputs": [
    {
     "data": {
      "text/plain": [
       "'Tenuta Lena di Mezzo'"
      ]
     },
     "execution_count": 332,
     "metadata": {},
     "output_type": "execute_result"
    }
   ],
   "source": [
    "driver.find_elements_by_xpath(\"//div[@class='info medium-9 columns ']\")[1].text.strip()"
   ]
  },
  {
   "cell_type": "code",
   "execution_count": 482,
   "metadata": {},
   "outputs": [
    {
     "data": {
      "text/html": [
       "<div>\n",
       "<style scoped>\n",
       "    .dataframe tbody tr th:only-of-type {\n",
       "        vertical-align: middle;\n",
       "    }\n",
       "\n",
       "    .dataframe tbody tr th {\n",
       "        vertical-align: top;\n",
       "    }\n",
       "\n",
       "    .dataframe thead th {\n",
       "        text-align: right;\n",
       "    }\n",
       "</style>\n",
       "<table border=\"1\" class=\"dataframe\">\n",
       "  <thead>\n",
       "    <tr style=\"text-align: right;\">\n",
       "      <th></th>\n",
       "      <th>name</th>\n",
       "      <th>review</th>\n",
       "      <th>taster</th>\n",
       "      <th>rating</th>\n",
       "      <th>price</th>\n",
       "      <th>designation</th>\n",
       "      <th>variety</th>\n",
       "      <th>appellation</th>\n",
       "      <th>winery</th>\n",
       "      <th>alc</th>\n",
       "      <th>bottle_size</th>\n",
       "      <th>category</th>\n",
       "      <th>importer</th>\n",
       "      <th>review_date</th>\n",
       "    </tr>\n",
       "  </thead>\n",
       "  <tbody>\n",
       "    <tr>\n",
       "      <th>0</th>\n",
       "      <td>Allegrini 2016 Amarone della Valpolicella Clas...</td>\n",
       "      <td>Ripe plum, blue flower and spice aromas lift o...</td>\n",
       "      <td>KERIN O’KEEFE</td>\n",
       "      <td>95</td>\n",
       "      <td>$85,BUY NOW</td>\n",
       "      <td>NaN</td>\n",
       "      <td>Red Blends, Red Blends</td>\n",
       "      <td>Amarone della Valpolicella Classico, Veneto, I...</td>\n",
       "      <td>Allegrini</td>\n",
       "      <td>15.5%</td>\n",
       "      <td>750 ml</td>\n",
       "      <td>Red</td>\n",
       "      <td>LUX Wines</td>\n",
       "      <td>3/1/2021</td>\n",
       "    </tr>\n",
       "    <tr>\n",
       "      <th>1</th>\n",
       "      <td>Monte del Frà 2016 Tenuta Lena di Mezzo (Amaro...</td>\n",
       "      <td>Aromas of ripe red plum, new leather, blue flo...</td>\n",
       "      <td>KERIN O’KEEFE</td>\n",
       "      <td>94</td>\n",
       "      <td>$60,BUY NOW</td>\n",
       "      <td>Tenuta Lena di Mezzo</td>\n",
       "      <td>Red Blends, Red Blends</td>\n",
       "      <td>Amarone della Valpolicella Classico, Veneto, I...</td>\n",
       "      <td>Monte del Frà</td>\n",
       "      <td>15%</td>\n",
       "      <td>750 ml</td>\n",
       "      <td>Red</td>\n",
       "      <td>Vision Wine &amp; Spirits</td>\n",
       "      <td>3/1/2021</td>\n",
       "    </tr>\n",
       "    <tr>\n",
       "      <th>2</th>\n",
       "      <td>Fattoria San Michele a Torri 2016 Tenuta La Ga...</td>\n",
       "      <td>Made entirely with organically farmed Sangiove...</td>\n",
       "      <td>KERIN O’KEEFE</td>\n",
       "      <td>94</td>\n",
       "      <td>$43,BUY NOW</td>\n",
       "      <td>Tenuta La Gabbiola Riserva</td>\n",
       "      <td>Sangiovese</td>\n",
       "      <td>Chianti Classico, Tuscany, Italy</td>\n",
       "      <td>Fattoria San Michele a Torri</td>\n",
       "      <td>14.5%</td>\n",
       "      <td>750 ml</td>\n",
       "      <td>Red</td>\n",
       "      <td>Integrity Wines LLC</td>\n",
       "      <td>3/1/2021</td>\n",
       "    </tr>\n",
       "    <tr>\n",
       "      <th>3</th>\n",
       "      <td>Cesari 2013 Il Bosco (Amarone della Valpolicel...</td>\n",
       "      <td>This full-bodied, velvety red offers balsamic ...</td>\n",
       "      <td>KERIN O’KEEFE</td>\n",
       "      <td>94</td>\n",
       "      <td>$85,BUY NOW</td>\n",
       "      <td>Il Bosco</td>\n",
       "      <td>Red Blends, Red Blends</td>\n",
       "      <td>Amarone della Valpolicella Classico, Veneto, I...</td>\n",
       "      <td>Cesari</td>\n",
       "      <td>15.5%</td>\n",
       "      <td>750 ml</td>\n",
       "      <td>Red</td>\n",
       "      <td>Opici Wines</td>\n",
       "      <td>3/1/2021</td>\n",
       "    </tr>\n",
       "    <tr>\n",
       "      <th>4</th>\n",
       "      <td>Masciarelli 2015 Villa Gemma Riserva (Montepul...</td>\n",
       "      <td>This top-of-the-line Montepulciano impresses i...</td>\n",
       "      <td>ALEXANDER PEARTREE</td>\n",
       "      <td>94</td>\n",
       "      <td>$90,BUY NOW</td>\n",
       "      <td>Villa Gemma Riserva</td>\n",
       "      <td>Montepulciano, Italian Red</td>\n",
       "      <td>Montepulciano d'Abruzzo, Central Italy, Italy</td>\n",
       "      <td>Masciarelli</td>\n",
       "      <td>14.5%</td>\n",
       "      <td>750 ml</td>\n",
       "      <td>Red</td>\n",
       "      <td>Vintus LLC</td>\n",
       "      <td>3/1/2021</td>\n",
       "    </tr>\n",
       "    <tr>\n",
       "      <th>5</th>\n",
       "      <td>Speri 2016 Sant'Urbano (Amarone della Valpolic...</td>\n",
       "      <td>Made with organically grown grapes, this full-...</td>\n",
       "      <td>KERIN O’KEEFE</td>\n",
       "      <td>94</td>\n",
       "      <td>$84,BUY NOW</td>\n",
       "      <td>Sant'Urbano</td>\n",
       "      <td>Red Blends, Red Blends</td>\n",
       "      <td>Amarone della Valpolicella Classico, Veneto, I...</td>\n",
       "      <td>Speri</td>\n",
       "      <td>15%</td>\n",
       "      <td>750 ml</td>\n",
       "      <td>Red</td>\n",
       "      <td>Empson USA Ltd</td>\n",
       "      <td>3/1/2021</td>\n",
       "    </tr>\n",
       "    <tr>\n",
       "      <th>6</th>\n",
       "      <td>Castello dei Rampolla 2018 Chianti Classico</td>\n",
       "      <td>Black-skinned fruit, new leather, tilled earth...</td>\n",
       "      <td>KERIN O’KEEFE</td>\n",
       "      <td>94</td>\n",
       "      <td>$37,BUY NOW</td>\n",
       "      <td>NaN</td>\n",
       "      <td>Red Blends, Red Blends</td>\n",
       "      <td>Chianti Classico, Tuscany, Italy</td>\n",
       "      <td>Castello dei Rampolla</td>\n",
       "      <td>14.5%</td>\n",
       "      <td>750 ml</td>\n",
       "      <td>Red</td>\n",
       "      <td>Vias Imports</td>\n",
       "      <td>3/1/2021</td>\n",
       "    </tr>\n",
       "    <tr>\n",
       "      <th>7</th>\n",
       "      <td>Davide Fregonese 2016 Riserva Rosso (Etna)</td>\n",
       "      <td>Aromas of red berry, slate, Mediterranean scru...</td>\n",
       "      <td>KERIN O’KEEFE</td>\n",
       "      <td>94</td>\n",
       "      <td>N/A,BUY NOW</td>\n",
       "      <td>Riserva Rosso</td>\n",
       "      <td>Red Blends, Red Blends</td>\n",
       "      <td>Etna, Sicily &amp; Sardinia, Italy</td>\n",
       "      <td>Davide Fregonese</td>\n",
       "      <td>13.5%</td>\n",
       "      <td>750 ml</td>\n",
       "      <td>Red</td>\n",
       "      <td>Vias Imports</td>\n",
       "      <td>3/1/2021</td>\n",
       "    </tr>\n",
       "    <tr>\n",
       "      <th>8</th>\n",
       "      <td>Giovanni Rosso 2017 Rosso (Etna)</td>\n",
       "      <td>Red berry, rose and Mediterranean scrub aromas...</td>\n",
       "      <td>KERIN O’KEEFE</td>\n",
       "      <td>93</td>\n",
       "      <td>$45,BUY NOW</td>\n",
       "      <td>Rosso</td>\n",
       "      <td>Red Blends, Red Blends</td>\n",
       "      <td>Etna, Sicily &amp; Sardinia, Italy</td>\n",
       "      <td>Giovanni Rosso</td>\n",
       "      <td>13.5%</td>\n",
       "      <td>750 ml</td>\n",
       "      <td>Red</td>\n",
       "      <td>Vias Imports</td>\n",
       "      <td>3/1/2021</td>\n",
       "    </tr>\n",
       "    <tr>\n",
       "      <th>9</th>\n",
       "      <td>Amorotti 2016 Montepulciano d'Abruzzo</td>\n",
       "      <td>Dense aromas of black plum and blackberry are ...</td>\n",
       "      <td>ALEXANDER PEARTREE</td>\n",
       "      <td>93</td>\n",
       "      <td>$44,BUY NOW</td>\n",
       "      <td>NaN</td>\n",
       "      <td>Montepulciano, Italian Red</td>\n",
       "      <td>Montepulciano d'Abruzzo, Central Italy, Italy</td>\n",
       "      <td>Amorotti</td>\n",
       "      <td>14%</td>\n",
       "      <td>750 ml</td>\n",
       "      <td>Red</td>\n",
       "      <td>Jan D'Amore Wines</td>\n",
       "      <td>3/1/2021</td>\n",
       "    </tr>\n",
       "    <tr>\n",
       "      <th>10</th>\n",
       "      <td>Cesari 2016 Amarone della Valpolicella Classic...</td>\n",
       "      <td>New leather, truffle, menthol and baked plum a...</td>\n",
       "      <td>KERIN O’KEEFE</td>\n",
       "      <td>93</td>\n",
       "      <td>$55,BUY NOW</td>\n",
       "      <td>NaN</td>\n",
       "      <td>Red Blends, Red Blends</td>\n",
       "      <td>Amarone della Valpolicella Classico, Veneto, I...</td>\n",
       "      <td>Cesari</td>\n",
       "      <td>15%</td>\n",
       "      <td>750 ml</td>\n",
       "      <td>Red</td>\n",
       "      <td>Opici Wines</td>\n",
       "      <td>3/1/2021</td>\n",
       "    </tr>\n",
       "    <tr>\n",
       "      <th>11</th>\n",
       "      <td>Zenato 2015 Sergio Zenato Riserva (Amarone del...</td>\n",
       "      <td>Violet, mature black-skinned fruit and new lea...</td>\n",
       "      <td>KERIN O’KEEFE</td>\n",
       "      <td>93</td>\n",
       "      <td>$97,BUY NOW</td>\n",
       "      <td>Sergio Zenato Riserva</td>\n",
       "      <td>Red Blends, Red Blends</td>\n",
       "      <td>Amarone della Valpolicella Classico, Veneto, I...</td>\n",
       "      <td>Zenato</td>\n",
       "      <td>16.5%</td>\n",
       "      <td>750 ml</td>\n",
       "      <td>Red</td>\n",
       "      <td>Winebow</td>\n",
       "      <td>3/1/2021</td>\n",
       "    </tr>\n",
       "    <tr>\n",
       "      <th>12</th>\n",
       "      <td>Casa Emma 2018 Chianti Classico\\nEditors' Choice</td>\n",
       "      <td>Made with Sangiovese and small amounts of Cana...</td>\n",
       "      <td>KERIN O’KEEFE</td>\n",
       "      <td>93</td>\n",
       "      <td>$20,BUY NOW</td>\n",
       "      <td>NaN</td>\n",
       "      <td>Red Blends, Red Blends</td>\n",
       "      <td>Chianti Classico, Tuscany, Italy</td>\n",
       "      <td>Casa Emma</td>\n",
       "      <td>13.5%</td>\n",
       "      <td>750 ml</td>\n",
       "      <td>Red</td>\n",
       "      <td>Serendipity Wine Imports</td>\n",
       "      <td>3/1/2021</td>\n",
       "    </tr>\n",
       "    <tr>\n",
       "      <th>13</th>\n",
       "      <td>Nicolis 2015 Amarone della Valpolicella Classico</td>\n",
       "      <td>Enticing aromas of violet, tobacco and black-s...</td>\n",
       "      <td>KERIN O’KEEFE</td>\n",
       "      <td>93</td>\n",
       "      <td>$79,BUY NOW</td>\n",
       "      <td>NaN</td>\n",
       "      <td>Red Blends, Red Blends</td>\n",
       "      <td>Amarone della Valpolicella Classico, Veneto, I...</td>\n",
       "      <td>Nicolis</td>\n",
       "      <td>15%</td>\n",
       "      <td>750 ml</td>\n",
       "      <td>Red</td>\n",
       "      <td>Ethica Wines</td>\n",
       "      <td>3/1/2021</td>\n",
       "    </tr>\n",
       "    <tr>\n",
       "      <th>14</th>\n",
       "      <td>Masi 2015 Costasera (Amarone della Valpolicell...</td>\n",
       "      <td>Underbrush, ripe plum, camphor and spice are j...</td>\n",
       "      <td>KERIN O’KEEFE</td>\n",
       "      <td>93</td>\n",
       "      <td>$60,BUY NOW</td>\n",
       "      <td>Costasera</td>\n",
       "      <td>Red Blends, Red Blends</td>\n",
       "      <td>Amarone della Valpolicella Classico, Veneto, I...</td>\n",
       "      <td>Masi</td>\n",
       "      <td>15%</td>\n",
       "      <td>750 ml</td>\n",
       "      <td>Red</td>\n",
       "      <td>Santa Margherita USA</td>\n",
       "      <td>3/1/2021</td>\n",
       "    </tr>\n",
       "    <tr>\n",
       "      <th>15</th>\n",
       "      <td>Castello Monterinaldi 2016 Vigneto Boscone (Ch...</td>\n",
       "      <td>Enticing aromas of iris, tobacco, and red-skin...</td>\n",
       "      <td>KERIN O’KEEFE</td>\n",
       "      <td>93</td>\n",
       "      <td>$45,BUY NOW</td>\n",
       "      <td>Vigneto Boscone</td>\n",
       "      <td>Sangiovese</td>\n",
       "      <td>Chianti Classico, Tuscany, Italy</td>\n",
       "      <td>Castello Monterinaldi</td>\n",
       "      <td>13.5%</td>\n",
       "      <td>750 ml</td>\n",
       "      <td>Red</td>\n",
       "      <td>Bradley Alan Imports LLC</td>\n",
       "      <td>3/1/2021</td>\n",
       "    </tr>\n",
       "    <tr>\n",
       "      <th>16</th>\n",
       "      <td>Pasqua 2015 Famiglia Pasqua (Amarone della Val...</td>\n",
       "      <td>Inviting aromas of baked plum, fragrant blue f...</td>\n",
       "      <td>KERIN O’KEEFE</td>\n",
       "      <td>93</td>\n",
       "      <td>$54,BUY NOW</td>\n",
       "      <td>Famiglia Pasqua</td>\n",
       "      <td>Red Blends, Red Blends</td>\n",
       "      <td>Amarone della Valpolicella, Veneto, Italy</td>\n",
       "      <td>Pasqua</td>\n",
       "      <td>15%</td>\n",
       "      <td>750 ml</td>\n",
       "      <td>Red</td>\n",
       "      <td>Pasqua USA LLC</td>\n",
       "      <td>3/1/2021</td>\n",
       "    </tr>\n",
       "    <tr>\n",
       "      <th>17</th>\n",
       "      <td>Castello di Bossi 2016 Gran Selezione (Chianti...</td>\n",
       "      <td>Enticing aromas of violet, eucalyptus and leat...</td>\n",
       "      <td>KERIN O’KEEFE</td>\n",
       "      <td>93</td>\n",
       "      <td>$43,BUY NOW</td>\n",
       "      <td>Gran Selezione</td>\n",
       "      <td>Sangiovese</td>\n",
       "      <td>Chianti Classico, Tuscany, Italy</td>\n",
       "      <td>Castello di Bossi</td>\n",
       "      <td>14.5%</td>\n",
       "      <td>750 ml</td>\n",
       "      <td>Red</td>\n",
       "      <td>LLS–Winebow</td>\n",
       "      <td>3/1/2021</td>\n",
       "    </tr>\n",
       "    <tr>\n",
       "      <th>18</th>\n",
       "      <td>Felsina 2017 Colonia Gran Selezione (Chianti C...</td>\n",
       "      <td>Aromas of underbrush, fragrant blue flowers, F...</td>\n",
       "      <td>KERIN O’KEEFE</td>\n",
       "      <td>93</td>\n",
       "      <td>$100,BUY NOW</td>\n",
       "      <td>Colonia Gran Selezione</td>\n",
       "      <td>Sangiovese</td>\n",
       "      <td>Chianti Classico, Tuscany, Italy</td>\n",
       "      <td>Felsina</td>\n",
       "      <td>13.5%</td>\n",
       "      <td>750 ml</td>\n",
       "      <td>Red</td>\n",
       "      <td>Polaner Selections</td>\n",
       "      <td>3/1/2021</td>\n",
       "    </tr>\n",
       "    <tr>\n",
       "      <th>19</th>\n",
       "      <td>Francesco Cirelli 2018 Montepulciano d'Abruzzo...</td>\n",
       "      <td>Freshly pressed blackberries, cherries and cra...</td>\n",
       "      <td>ALEXANDER PEARTREE</td>\n",
       "      <td>93</td>\n",
       "      <td>$22,BUY NOW</td>\n",
       "      <td>NaN</td>\n",
       "      <td>Montepulciano, Italian Red</td>\n",
       "      <td>Montepulciano d'Abruzzo, Central Italy, Italy</td>\n",
       "      <td>Francesco Cirelli</td>\n",
       "      <td>13%</td>\n",
       "      <td>750 ml</td>\n",
       "      <td>Red</td>\n",
       "      <td>Zev Rovine Selections</td>\n",
       "      <td>3/1/2021</td>\n",
       "    </tr>\n",
       "    <tr>\n",
       "      <th>20</th>\n",
       "      <td>Casa Emma 2016 Gran Selezione (Chianti Classico)</td>\n",
       "      <td>Aromas of leather, menthol, wild berries and d...</td>\n",
       "      <td>KERIN O’KEEFE</td>\n",
       "      <td>93</td>\n",
       "      <td>$50,BUY NOW</td>\n",
       "      <td>Gran Selezione</td>\n",
       "      <td>Sangiovese</td>\n",
       "      <td>Chianti Classico, Tuscany, Italy</td>\n",
       "      <td>Casa Emma</td>\n",
       "      <td>14%</td>\n",
       "      <td>750 ml</td>\n",
       "      <td>Red</td>\n",
       "      <td>Serendipity Wine Imports</td>\n",
       "      <td>3/1/2021</td>\n",
       "    </tr>\n",
       "    <tr>\n",
       "      <th>21</th>\n",
       "      <td>Fattoria di Petroio 2015 Poggio ai Grilli Gran...</td>\n",
       "      <td>Fragrant purple flowers, ripe plum, new leathe...</td>\n",
       "      <td>KERIN O’KEEFE</td>\n",
       "      <td>93</td>\n",
       "      <td>$48,BUY NOW</td>\n",
       "      <td>Poggio ai Grilli Gran Selezione</td>\n",
       "      <td>Sangiovese</td>\n",
       "      <td>Chianti Classico, Tuscany, Italy</td>\n",
       "      <td>Fattoria di Petroio</td>\n",
       "      <td>13.5%</td>\n",
       "      <td>750 ml</td>\n",
       "      <td>Red</td>\n",
       "      <td>Youngs Market Co</td>\n",
       "      <td>3/1/2021</td>\n",
       "    </tr>\n",
       "    <tr>\n",
       "      <th>22</th>\n",
       "      <td>Feudo Montoni 2016 Vrucara Nero d'Avola (Sicil...</td>\n",
       "      <td>Made with bush-trained pre-phylloxera vines, t...</td>\n",
       "      <td>KERIN O’KEEFE</td>\n",
       "      <td>93</td>\n",
       "      <td>$55,BUY NOW</td>\n",
       "      <td>Vrucara</td>\n",
       "      <td>Nero d'Avola, Italian Red</td>\n",
       "      <td>Sicilia, Sicily &amp; Sardinia, Italy</td>\n",
       "      <td>Feudo Montoni</td>\n",
       "      <td>14%</td>\n",
       "      <td>750 ml</td>\n",
       "      <td>Red</td>\n",
       "      <td>Wilson Daniels Ltd</td>\n",
       "      <td>3/1/2021</td>\n",
       "    </tr>\n",
       "    <tr>\n",
       "      <th>23</th>\n",
       "      <td>Aiola 2016 Cancello Rosso Gran Selezione (Chia...</td>\n",
       "      <td>Blue flowers, tobacco, ripe black-skinned frui...</td>\n",
       "      <td>KERIN O’KEEFE</td>\n",
       "      <td>92</td>\n",
       "      <td>$43,BUY NOW</td>\n",
       "      <td>Cancello Rosso Gran Selezione</td>\n",
       "      <td>Red Blends, Red Blends</td>\n",
       "      <td>Chianti Classico, Tuscany, Italy</td>\n",
       "      <td>Aiola</td>\n",
       "      <td>13.5%</td>\n",
       "      <td>750 ml</td>\n",
       "      <td>Red</td>\n",
       "      <td>Hill City Imports</td>\n",
       "      <td>3/1/2021</td>\n",
       "    </tr>\n",
       "    <tr>\n",
       "      <th>24</th>\n",
       "      <td>Il Molino di Grace 2016 Chianti Classico</td>\n",
       "      <td>Blue flower, French oak and menthol aromas fil...</td>\n",
       "      <td>KERIN O’KEEFE</td>\n",
       "      <td>92</td>\n",
       "      <td>$25,BUY NOW</td>\n",
       "      <td>NaN</td>\n",
       "      <td>Sangiovese</td>\n",
       "      <td>Chianti Classico, Tuscany, Italy</td>\n",
       "      <td>Il Molino di Grace</td>\n",
       "      <td>14%</td>\n",
       "      <td>750 ml</td>\n",
       "      <td>Red</td>\n",
       "      <td>Empson USA Ltd</td>\n",
       "      <td>3/1/2021</td>\n",
       "    </tr>\n",
       "    <tr>\n",
       "      <th>25</th>\n",
       "      <td>Castello di Meleto 2016 Vigna Poggiarso (Chian...</td>\n",
       "      <td>Aromas of graphite, botanical herbs and blue f...</td>\n",
       "      <td>KERIN O’KEEFE</td>\n",
       "      <td>92</td>\n",
       "      <td>$45,BUY NOW</td>\n",
       "      <td>Vigna Poggiarso</td>\n",
       "      <td>Red Blends, Red Blends</td>\n",
       "      <td>Chianti Classico, Tuscany, Italy</td>\n",
       "      <td>Castello di Meleto</td>\n",
       "      <td>13.5%</td>\n",
       "      <td>750 ml</td>\n",
       "      <td>Red</td>\n",
       "      <td>1_Not Imported into US</td>\n",
       "      <td>3/1/2021</td>\n",
       "    </tr>\n",
       "    <tr>\n",
       "      <th>26</th>\n",
       "      <td>Barone Ricasoli 2017 CeniPrimo Gran Selezione ...</td>\n",
       "      <td>Aromas of fragrant purple flowers, baked plum ...</td>\n",
       "      <td>KERIN O’KEEFE</td>\n",
       "      <td>92</td>\n",
       "      <td>$79,BUY NOW</td>\n",
       "      <td>CeniPrimo Gran Selezione</td>\n",
       "      <td>Sangiovese</td>\n",
       "      <td>Chianti Classico, Tuscany, Italy</td>\n",
       "      <td>Barone Ricasoli</td>\n",
       "      <td>14.5%</td>\n",
       "      <td>750 ml</td>\n",
       "      <td>Red</td>\n",
       "      <td>Folio Fine Wine Partners</td>\n",
       "      <td>3/1/2021</td>\n",
       "    </tr>\n",
       "    <tr>\n",
       "      <th>27</th>\n",
       "      <td>Casa al Vento 2016 V'Incanto Gran Selezione (C...</td>\n",
       "      <td>Violet, forest floor, oak-driven spice and a w...</td>\n",
       "      <td>KERIN O’KEEFE</td>\n",
       "      <td>92</td>\n",
       "      <td>$45,BUY NOW</td>\n",
       "      <td>V'Incanto Gran Selezione</td>\n",
       "      <td>Red Blends, Red Blends</td>\n",
       "      <td>Chianti Classico, Tuscany, Italy</td>\n",
       "      <td>Casa al Vento</td>\n",
       "      <td>13.5%</td>\n",
       "      <td>750 ml</td>\n",
       "      <td>Red</td>\n",
       "      <td>Classic Wines, Inc</td>\n",
       "      <td>3/1/2021</td>\n",
       "    </tr>\n",
       "    <tr>\n",
       "      <th>28</th>\n",
       "      <td>Fattori 2016 Col de la Bastià (Amarone della V...</td>\n",
       "      <td>Aromas of black-skinned berries, mocha and new...</td>\n",
       "      <td>KERIN O’KEEFE</td>\n",
       "      <td>92</td>\n",
       "      <td>$65,BUY NOW</td>\n",
       "      <td>Col de la Bastià</td>\n",
       "      <td>Red Blends, Red Blends</td>\n",
       "      <td>Amarone della Valpolicella, Veneto, Italy</td>\n",
       "      <td>Fattori</td>\n",
       "      <td>16%</td>\n",
       "      <td>750 ml</td>\n",
       "      <td>Red</td>\n",
       "      <td>Zerbina Imports</td>\n",
       "      <td>3/1/2021</td>\n",
       "    </tr>\n",
       "    <tr>\n",
       "      <th>29</th>\n",
       "      <td>Tedeschi 2015 Capitel Monte Olmi Riserva (Amar...</td>\n",
       "      <td>This single-vineyard bottling opens with multi...</td>\n",
       "      <td>KERIN O’KEEFE</td>\n",
       "      <td>92</td>\n",
       "      <td>$99,BUY NOW</td>\n",
       "      <td>Capitel Monte Olmi Riserva</td>\n",
       "      <td>Red Blends, Red Blends</td>\n",
       "      <td>Amarone della Valpolicella Classico, Veneto, I...</td>\n",
       "      <td>Tedeschi</td>\n",
       "      <td>17%</td>\n",
       "      <td>750 ml</td>\n",
       "      <td>Red</td>\n",
       "      <td>Tedeschi USA</td>\n",
       "      <td>3/1/2021</td>\n",
       "    </tr>\n",
       "    <tr>\n",
       "      <th>30</th>\n",
       "      <td>Castello di Meleto 2016 Gran Selezione (Chiant...</td>\n",
       "      <td>Aromas of fragrant purple flowers and baked pl...</td>\n",
       "      <td>KERIN O’KEEFE</td>\n",
       "      <td>92</td>\n",
       "      <td>$70,BUY NOW</td>\n",
       "      <td>Gran Selezione</td>\n",
       "      <td>Sangiovese</td>\n",
       "      <td>Chianti Classico, Tuscany, Italy</td>\n",
       "      <td>Castello di Meleto</td>\n",
       "      <td>13.5%</td>\n",
       "      <td>750 ml</td>\n",
       "      <td>Red</td>\n",
       "      <td>Golden Ram Imports</td>\n",
       "      <td>3/1/2021</td>\n",
       "    </tr>\n",
       "    <tr>\n",
       "      <th>31</th>\n",
       "      <td>Il Molino di Grace 2016 Il Margone Gran Selezi...</td>\n",
       "      <td>Blue flower, baking spice and ripe plum aromas...</td>\n",
       "      <td>KERIN O’KEEFE</td>\n",
       "      <td>92</td>\n",
       "      <td>$35,BUY NOW</td>\n",
       "      <td>Il Margone Gran Selezione</td>\n",
       "      <td>Sangiovese</td>\n",
       "      <td>Chianti Classico, Tuscany, Italy</td>\n",
       "      <td>Il Molino di Grace</td>\n",
       "      <td>14%</td>\n",
       "      <td>750 ml</td>\n",
       "      <td>Red</td>\n",
       "      <td>Empson USA Ltd</td>\n",
       "      <td>3/1/2021</td>\n",
       "    </tr>\n",
       "    <tr>\n",
       "      <th>32</th>\n",
       "      <td>Sartori 2015 Estate Collection (Amarone della ...</td>\n",
       "      <td>Inviting aromas of black-skinned berry, warm s...</td>\n",
       "      <td>KERIN O’KEEFE</td>\n",
       "      <td>92</td>\n",
       "      <td>$60,BUY NOW</td>\n",
       "      <td>Estate Collection</td>\n",
       "      <td>Red Blends, Red Blends</td>\n",
       "      <td>Amarone della Valpolicella, Veneto, Italy</td>\n",
       "      <td>Sartori</td>\n",
       "      <td>15%</td>\n",
       "      <td>750 ml</td>\n",
       "      <td>Red</td>\n",
       "      <td>Shaw-Ross International Importers</td>\n",
       "      <td>3/1/2021</td>\n",
       "    </tr>\n",
       "    <tr>\n",
       "      <th>33</th>\n",
       "      <td>Cantina Tollo 2015 Cagiòlo Riserva (Montepulci...</td>\n",
       "      <td>Densely packed aromas of brandy-soaked plums a...</td>\n",
       "      <td>ALEXANDER PEARTREE</td>\n",
       "      <td>92</td>\n",
       "      <td>$35,BUY NOW</td>\n",
       "      <td>Cagiòlo Riserva</td>\n",
       "      <td>Montepulciano, Italian Red</td>\n",
       "      <td>Montepulciano d'Abruzzo, Central Italy, Italy</td>\n",
       "      <td>Cantina Tollo</td>\n",
       "      <td>14.5%</td>\n",
       "      <td>750 ml</td>\n",
       "      <td>Red</td>\n",
       "      <td>Vino Veritas</td>\n",
       "      <td>3/1/2021</td>\n",
       "    </tr>\n",
       "    <tr>\n",
       "      <th>34</th>\n",
       "      <td>Barone Ricasoli 2017 Colledilà Gran Selezione ...</td>\n",
       "      <td>Red berry, rose, slate and camphor aromas are ...</td>\n",
       "      <td>KERIN O’KEEFE</td>\n",
       "      <td>92</td>\n",
       "      <td>$79,BUY NOW</td>\n",
       "      <td>Colledilà Gran Selezione</td>\n",
       "      <td>Sangiovese</td>\n",
       "      <td>Chianti Classico, Tuscany, Italy</td>\n",
       "      <td>Barone Ricasoli</td>\n",
       "      <td>14%</td>\n",
       "      <td>750 ml</td>\n",
       "      <td>Red</td>\n",
       "      <td>Folio Fine Wine Partners</td>\n",
       "      <td>3/1/2021</td>\n",
       "    </tr>\n",
       "    <tr>\n",
       "      <th>35</th>\n",
       "      <td>Barone Ricasoli 2017 Roncione Gran Selezione (...</td>\n",
       "      <td>Spice, rose and wild berry aromas waft out of ...</td>\n",
       "      <td>KERIN O’KEEFE</td>\n",
       "      <td>92</td>\n",
       "      <td>$79,BUY NOW</td>\n",
       "      <td>Roncione Gran Selezione</td>\n",
       "      <td>Sangiovese</td>\n",
       "      <td>Chianti Classico, Tuscany, Italy</td>\n",
       "      <td>Barone Ricasoli</td>\n",
       "      <td>14%</td>\n",
       "      <td>750 ml</td>\n",
       "      <td>Red</td>\n",
       "      <td>Folio Fine Wine Partners</td>\n",
       "      <td>3/1/2021</td>\n",
       "    </tr>\n",
       "    <tr>\n",
       "      <th>36</th>\n",
       "      <td>Cafaggio 2015 Basilica Solatio Riserva (Chiant...</td>\n",
       "      <td>Underbrush, sunbaked earth, leather and campho...</td>\n",
       "      <td>KERIN O’KEEFE</td>\n",
       "      <td>92</td>\n",
       "      <td>$50,BUY NOW</td>\n",
       "      <td>Basilica Solatio Riserva</td>\n",
       "      <td>Sangiovese</td>\n",
       "      <td>Chianti Classico, Tuscany, Italy</td>\n",
       "      <td>Cafaggio</td>\n",
       "      <td>14%</td>\n",
       "      <td>750 ml</td>\n",
       "      <td>Red</td>\n",
       "      <td>Ethica Wines</td>\n",
       "      <td>3/1/2021</td>\n",
       "    </tr>\n",
       "    <tr>\n",
       "      <th>37</th>\n",
       "      <td>Fattoria Petriolo 2016 Riserva (Chianti Classi...</td>\n",
       "      <td>Initially closed, the nose eventually reveals ...</td>\n",
       "      <td>KERIN O’KEEFE</td>\n",
       "      <td>92</td>\n",
       "      <td>$28,BUY NOW</td>\n",
       "      <td>Riserva</td>\n",
       "      <td>Red Blends, Red Blends</td>\n",
       "      <td>Chianti Classico, Tuscany, Italy</td>\n",
       "      <td>Fattoria Petriolo</td>\n",
       "      <td>14%</td>\n",
       "      <td>750 ml</td>\n",
       "      <td>Red</td>\n",
       "      <td>Youngs Market Co</td>\n",
       "      <td>3/1/2021</td>\n",
       "    </tr>\n",
       "    <tr>\n",
       "      <th>38</th>\n",
       "      <td>Querciabella 2016 Riserva (Chianti Classico)</td>\n",
       "      <td>Camphor, botanical herb, new leather and viole...</td>\n",
       "      <td>KERIN O’KEEFE</td>\n",
       "      <td>92</td>\n",
       "      <td>$30,BUY NOW</td>\n",
       "      <td>Riserva</td>\n",
       "      <td>Sangiovese</td>\n",
       "      <td>Chianti Classico, Tuscany, Italy</td>\n",
       "      <td>Querciabella</td>\n",
       "      <td>13.5%</td>\n",
       "      <td>750 ml</td>\n",
       "      <td>Red</td>\n",
       "      <td>Maisons Marques &amp; Domaines USA</td>\n",
       "      <td>3/1/2021</td>\n",
       "    </tr>\n",
       "    <tr>\n",
       "      <th>39</th>\n",
       "      <td>Valiano 2016 Poggio Teo (Chianti Classico)</td>\n",
       "      <td>Refined aromas of blue flowers, ripe dark-skin...</td>\n",
       "      <td>KERIN O’KEEFE</td>\n",
       "      <td>92</td>\n",
       "      <td>$30,BUY NOW</td>\n",
       "      <td>Poggio Teo</td>\n",
       "      <td>Red Blends, Red Blends</td>\n",
       "      <td>Chianti Classico, Tuscany, Italy</td>\n",
       "      <td>Valiano</td>\n",
       "      <td>13.5%</td>\n",
       "      <td>750 ml</td>\n",
       "      <td>Red</td>\n",
       "      <td>8 Vini, Inc</td>\n",
       "      <td>3/1/2021</td>\n",
       "    </tr>\n",
       "  </tbody>\n",
       "</table>\n",
       "</div>"
      ],
      "text/plain": [
       "                                                 name  \\\n",
       "0   Allegrini 2016 Amarone della Valpolicella Clas...   \n",
       "1   Monte del Frà 2016 Tenuta Lena di Mezzo (Amaro...   \n",
       "2   Fattoria San Michele a Torri 2016 Tenuta La Ga...   \n",
       "3   Cesari 2013 Il Bosco (Amarone della Valpolicel...   \n",
       "4   Masciarelli 2015 Villa Gemma Riserva (Montepul...   \n",
       "5   Speri 2016 Sant'Urbano (Amarone della Valpolic...   \n",
       "6         Castello dei Rampolla 2018 Chianti Classico   \n",
       "7          Davide Fregonese 2016 Riserva Rosso (Etna)   \n",
       "8                    Giovanni Rosso 2017 Rosso (Etna)   \n",
       "9               Amorotti 2016 Montepulciano d'Abruzzo   \n",
       "10  Cesari 2016 Amarone della Valpolicella Classic...   \n",
       "11  Zenato 2015 Sergio Zenato Riserva (Amarone del...   \n",
       "12   Casa Emma 2018 Chianti Classico\\nEditors' Choice   \n",
       "13   Nicolis 2015 Amarone della Valpolicella Classico   \n",
       "14  Masi 2015 Costasera (Amarone della Valpolicell...   \n",
       "15  Castello Monterinaldi 2016 Vigneto Boscone (Ch...   \n",
       "16  Pasqua 2015 Famiglia Pasqua (Amarone della Val...   \n",
       "17  Castello di Bossi 2016 Gran Selezione (Chianti...   \n",
       "18  Felsina 2017 Colonia Gran Selezione (Chianti C...   \n",
       "19  Francesco Cirelli 2018 Montepulciano d'Abruzzo...   \n",
       "20   Casa Emma 2016 Gran Selezione (Chianti Classico)   \n",
       "21  Fattoria di Petroio 2015 Poggio ai Grilli Gran...   \n",
       "22  Feudo Montoni 2016 Vrucara Nero d'Avola (Sicil...   \n",
       "23  Aiola 2016 Cancello Rosso Gran Selezione (Chia...   \n",
       "24           Il Molino di Grace 2016 Chianti Classico   \n",
       "25  Castello di Meleto 2016 Vigna Poggiarso (Chian...   \n",
       "26  Barone Ricasoli 2017 CeniPrimo Gran Selezione ...   \n",
       "27  Casa al Vento 2016 V'Incanto Gran Selezione (C...   \n",
       "28  Fattori 2016 Col de la Bastià (Amarone della V...   \n",
       "29  Tedeschi 2015 Capitel Monte Olmi Riserva (Amar...   \n",
       "30  Castello di Meleto 2016 Gran Selezione (Chiant...   \n",
       "31  Il Molino di Grace 2016 Il Margone Gran Selezi...   \n",
       "32  Sartori 2015 Estate Collection (Amarone della ...   \n",
       "33  Cantina Tollo 2015 Cagiòlo Riserva (Montepulci...   \n",
       "34  Barone Ricasoli 2017 Colledilà Gran Selezione ...   \n",
       "35  Barone Ricasoli 2017 Roncione Gran Selezione (...   \n",
       "36  Cafaggio 2015 Basilica Solatio Riserva (Chiant...   \n",
       "37  Fattoria Petriolo 2016 Riserva (Chianti Classi...   \n",
       "38       Querciabella 2016 Riserva (Chianti Classico)   \n",
       "39         Valiano 2016 Poggio Teo (Chianti Classico)   \n",
       "\n",
       "                                               review              taster  \\\n",
       "0   Ripe plum, blue flower and spice aromas lift o...       KERIN O’KEEFE   \n",
       "1   Aromas of ripe red plum, new leather, blue flo...       KERIN O’KEEFE   \n",
       "2   Made entirely with organically farmed Sangiove...       KERIN O’KEEFE   \n",
       "3   This full-bodied, velvety red offers balsamic ...       KERIN O’KEEFE   \n",
       "4   This top-of-the-line Montepulciano impresses i...  ALEXANDER PEARTREE   \n",
       "5   Made with organically grown grapes, this full-...       KERIN O’KEEFE   \n",
       "6   Black-skinned fruit, new leather, tilled earth...       KERIN O’KEEFE   \n",
       "7   Aromas of red berry, slate, Mediterranean scru...       KERIN O’KEEFE   \n",
       "8   Red berry, rose and Mediterranean scrub aromas...       KERIN O’KEEFE   \n",
       "9   Dense aromas of black plum and blackberry are ...  ALEXANDER PEARTREE   \n",
       "10  New leather, truffle, menthol and baked plum a...       KERIN O’KEEFE   \n",
       "11  Violet, mature black-skinned fruit and new lea...       KERIN O’KEEFE   \n",
       "12  Made with Sangiovese and small amounts of Cana...       KERIN O’KEEFE   \n",
       "13  Enticing aromas of violet, tobacco and black-s...       KERIN O’KEEFE   \n",
       "14  Underbrush, ripe plum, camphor and spice are j...       KERIN O’KEEFE   \n",
       "15  Enticing aromas of iris, tobacco, and red-skin...       KERIN O’KEEFE   \n",
       "16  Inviting aromas of baked plum, fragrant blue f...       KERIN O’KEEFE   \n",
       "17  Enticing aromas of violet, eucalyptus and leat...       KERIN O’KEEFE   \n",
       "18  Aromas of underbrush, fragrant blue flowers, F...       KERIN O’KEEFE   \n",
       "19  Freshly pressed blackberries, cherries and cra...  ALEXANDER PEARTREE   \n",
       "20  Aromas of leather, menthol, wild berries and d...       KERIN O’KEEFE   \n",
       "21  Fragrant purple flowers, ripe plum, new leathe...       KERIN O’KEEFE   \n",
       "22  Made with bush-trained pre-phylloxera vines, t...       KERIN O’KEEFE   \n",
       "23  Blue flowers, tobacco, ripe black-skinned frui...       KERIN O’KEEFE   \n",
       "24  Blue flower, French oak and menthol aromas fil...       KERIN O’KEEFE   \n",
       "25  Aromas of graphite, botanical herbs and blue f...       KERIN O’KEEFE   \n",
       "26  Aromas of fragrant purple flowers, baked plum ...       KERIN O’KEEFE   \n",
       "27  Violet, forest floor, oak-driven spice and a w...       KERIN O’KEEFE   \n",
       "28  Aromas of black-skinned berries, mocha and new...       KERIN O’KEEFE   \n",
       "29  This single-vineyard bottling opens with multi...       KERIN O’KEEFE   \n",
       "30  Aromas of fragrant purple flowers and baked pl...       KERIN O’KEEFE   \n",
       "31  Blue flower, baking spice and ripe plum aromas...       KERIN O’KEEFE   \n",
       "32  Inviting aromas of black-skinned berry, warm s...       KERIN O’KEEFE   \n",
       "33  Densely packed aromas of brandy-soaked plums a...  ALEXANDER PEARTREE   \n",
       "34  Red berry, rose, slate and camphor aromas are ...       KERIN O’KEEFE   \n",
       "35  Spice, rose and wild berry aromas waft out of ...       KERIN O’KEEFE   \n",
       "36  Underbrush, sunbaked earth, leather and campho...       KERIN O’KEEFE   \n",
       "37  Initially closed, the nose eventually reveals ...       KERIN O’KEEFE   \n",
       "38  Camphor, botanical herb, new leather and viole...       KERIN O’KEEFE   \n",
       "39  Refined aromas of blue flowers, ripe dark-skin...       KERIN O’KEEFE   \n",
       "\n",
       "   rating         price                      designation  \\\n",
       "0      95   $85,BUY NOW                              NaN   \n",
       "1      94   $60,BUY NOW             Tenuta Lena di Mezzo   \n",
       "2      94   $43,BUY NOW       Tenuta La Gabbiola Riserva   \n",
       "3      94   $85,BUY NOW                         Il Bosco   \n",
       "4      94   $90,BUY NOW              Villa Gemma Riserva   \n",
       "5      94   $84,BUY NOW                      Sant'Urbano   \n",
       "6      94   $37,BUY NOW                              NaN   \n",
       "7      94   N/A,BUY NOW                    Riserva Rosso   \n",
       "8      93   $45,BUY NOW                            Rosso   \n",
       "9      93   $44,BUY NOW                              NaN   \n",
       "10     93   $55,BUY NOW                              NaN   \n",
       "11     93   $97,BUY NOW            Sergio Zenato Riserva   \n",
       "12     93   $20,BUY NOW                              NaN   \n",
       "13     93   $79,BUY NOW                              NaN   \n",
       "14     93   $60,BUY NOW                        Costasera   \n",
       "15     93   $45,BUY NOW                  Vigneto Boscone   \n",
       "16     93   $54,BUY NOW                  Famiglia Pasqua   \n",
       "17     93   $43,BUY NOW                   Gran Selezione   \n",
       "18     93  $100,BUY NOW           Colonia Gran Selezione   \n",
       "19     93   $22,BUY NOW                              NaN   \n",
       "20     93   $50,BUY NOW                   Gran Selezione   \n",
       "21     93   $48,BUY NOW  Poggio ai Grilli Gran Selezione   \n",
       "22     93   $55,BUY NOW                          Vrucara   \n",
       "23     92   $43,BUY NOW    Cancello Rosso Gran Selezione   \n",
       "24     92   $25,BUY NOW                              NaN   \n",
       "25     92   $45,BUY NOW                  Vigna Poggiarso   \n",
       "26     92   $79,BUY NOW         CeniPrimo Gran Selezione   \n",
       "27     92   $45,BUY NOW         V'Incanto Gran Selezione   \n",
       "28     92   $65,BUY NOW                 Col de la Bastià   \n",
       "29     92   $99,BUY NOW       Capitel Monte Olmi Riserva   \n",
       "30     92   $70,BUY NOW                   Gran Selezione   \n",
       "31     92   $35,BUY NOW        Il Margone Gran Selezione   \n",
       "32     92   $60,BUY NOW                Estate Collection   \n",
       "33     92   $35,BUY NOW                  Cagiòlo Riserva   \n",
       "34     92   $79,BUY NOW         Colledilà Gran Selezione   \n",
       "35     92   $79,BUY NOW          Roncione Gran Selezione   \n",
       "36     92   $50,BUY NOW         Basilica Solatio Riserva   \n",
       "37     92   $28,BUY NOW                          Riserva   \n",
       "38     92   $30,BUY NOW                          Riserva   \n",
       "39     92   $30,BUY NOW                       Poggio Teo   \n",
       "\n",
       "                       variety  \\\n",
       "0       Red Blends, Red Blends   \n",
       "1       Red Blends, Red Blends   \n",
       "2                   Sangiovese   \n",
       "3       Red Blends, Red Blends   \n",
       "4   Montepulciano, Italian Red   \n",
       "5       Red Blends, Red Blends   \n",
       "6       Red Blends, Red Blends   \n",
       "7       Red Blends, Red Blends   \n",
       "8       Red Blends, Red Blends   \n",
       "9   Montepulciano, Italian Red   \n",
       "10      Red Blends, Red Blends   \n",
       "11      Red Blends, Red Blends   \n",
       "12      Red Blends, Red Blends   \n",
       "13      Red Blends, Red Blends   \n",
       "14      Red Blends, Red Blends   \n",
       "15                  Sangiovese   \n",
       "16      Red Blends, Red Blends   \n",
       "17                  Sangiovese   \n",
       "18                  Sangiovese   \n",
       "19  Montepulciano, Italian Red   \n",
       "20                  Sangiovese   \n",
       "21                  Sangiovese   \n",
       "22   Nero d'Avola, Italian Red   \n",
       "23      Red Blends, Red Blends   \n",
       "24                  Sangiovese   \n",
       "25      Red Blends, Red Blends   \n",
       "26                  Sangiovese   \n",
       "27      Red Blends, Red Blends   \n",
       "28      Red Blends, Red Blends   \n",
       "29      Red Blends, Red Blends   \n",
       "30                  Sangiovese   \n",
       "31                  Sangiovese   \n",
       "32      Red Blends, Red Blends   \n",
       "33  Montepulciano, Italian Red   \n",
       "34                  Sangiovese   \n",
       "35                  Sangiovese   \n",
       "36                  Sangiovese   \n",
       "37      Red Blends, Red Blends   \n",
       "38                  Sangiovese   \n",
       "39      Red Blends, Red Blends   \n",
       "\n",
       "                                          appellation  \\\n",
       "0   Amarone della Valpolicella Classico, Veneto, I...   \n",
       "1   Amarone della Valpolicella Classico, Veneto, I...   \n",
       "2                    Chianti Classico, Tuscany, Italy   \n",
       "3   Amarone della Valpolicella Classico, Veneto, I...   \n",
       "4       Montepulciano d'Abruzzo, Central Italy, Italy   \n",
       "5   Amarone della Valpolicella Classico, Veneto, I...   \n",
       "6                    Chianti Classico, Tuscany, Italy   \n",
       "7                      Etna, Sicily & Sardinia, Italy   \n",
       "8                      Etna, Sicily & Sardinia, Italy   \n",
       "9       Montepulciano d'Abruzzo, Central Italy, Italy   \n",
       "10  Amarone della Valpolicella Classico, Veneto, I...   \n",
       "11  Amarone della Valpolicella Classico, Veneto, I...   \n",
       "12                   Chianti Classico, Tuscany, Italy   \n",
       "13  Amarone della Valpolicella Classico, Veneto, I...   \n",
       "14  Amarone della Valpolicella Classico, Veneto, I...   \n",
       "15                   Chianti Classico, Tuscany, Italy   \n",
       "16          Amarone della Valpolicella, Veneto, Italy   \n",
       "17                   Chianti Classico, Tuscany, Italy   \n",
       "18                   Chianti Classico, Tuscany, Italy   \n",
       "19      Montepulciano d'Abruzzo, Central Italy, Italy   \n",
       "20                   Chianti Classico, Tuscany, Italy   \n",
       "21                   Chianti Classico, Tuscany, Italy   \n",
       "22                  Sicilia, Sicily & Sardinia, Italy   \n",
       "23                   Chianti Classico, Tuscany, Italy   \n",
       "24                   Chianti Classico, Tuscany, Italy   \n",
       "25                   Chianti Classico, Tuscany, Italy   \n",
       "26                   Chianti Classico, Tuscany, Italy   \n",
       "27                   Chianti Classico, Tuscany, Italy   \n",
       "28          Amarone della Valpolicella, Veneto, Italy   \n",
       "29  Amarone della Valpolicella Classico, Veneto, I...   \n",
       "30                   Chianti Classico, Tuscany, Italy   \n",
       "31                   Chianti Classico, Tuscany, Italy   \n",
       "32          Amarone della Valpolicella, Veneto, Italy   \n",
       "33      Montepulciano d'Abruzzo, Central Italy, Italy   \n",
       "34                   Chianti Classico, Tuscany, Italy   \n",
       "35                   Chianti Classico, Tuscany, Italy   \n",
       "36                   Chianti Classico, Tuscany, Italy   \n",
       "37                   Chianti Classico, Tuscany, Italy   \n",
       "38                   Chianti Classico, Tuscany, Italy   \n",
       "39                   Chianti Classico, Tuscany, Italy   \n",
       "\n",
       "                          winery    alc bottle_size category  \\\n",
       "0                      Allegrini  15.5%      750 ml      Red   \n",
       "1                  Monte del Frà    15%      750 ml      Red   \n",
       "2   Fattoria San Michele a Torri  14.5%      750 ml      Red   \n",
       "3                         Cesari  15.5%      750 ml      Red   \n",
       "4                    Masciarelli  14.5%      750 ml      Red   \n",
       "5                          Speri    15%      750 ml      Red   \n",
       "6          Castello dei Rampolla  14.5%      750 ml      Red   \n",
       "7               Davide Fregonese  13.5%      750 ml      Red   \n",
       "8                 Giovanni Rosso  13.5%      750 ml      Red   \n",
       "9                       Amorotti    14%      750 ml      Red   \n",
       "10                        Cesari    15%      750 ml      Red   \n",
       "11                        Zenato  16.5%      750 ml      Red   \n",
       "12                     Casa Emma  13.5%      750 ml      Red   \n",
       "13                       Nicolis    15%      750 ml      Red   \n",
       "14                          Masi    15%      750 ml      Red   \n",
       "15         Castello Monterinaldi  13.5%      750 ml      Red   \n",
       "16                        Pasqua    15%      750 ml      Red   \n",
       "17             Castello di Bossi  14.5%      750 ml      Red   \n",
       "18                       Felsina  13.5%      750 ml      Red   \n",
       "19             Francesco Cirelli    13%      750 ml      Red   \n",
       "20                     Casa Emma    14%      750 ml      Red   \n",
       "21           Fattoria di Petroio  13.5%      750 ml      Red   \n",
       "22                 Feudo Montoni    14%      750 ml      Red   \n",
       "23                         Aiola  13.5%      750 ml      Red   \n",
       "24            Il Molino di Grace    14%      750 ml      Red   \n",
       "25            Castello di Meleto  13.5%      750 ml      Red   \n",
       "26               Barone Ricasoli  14.5%      750 ml      Red   \n",
       "27                 Casa al Vento  13.5%      750 ml      Red   \n",
       "28                       Fattori    16%      750 ml      Red   \n",
       "29                      Tedeschi    17%      750 ml      Red   \n",
       "30            Castello di Meleto  13.5%      750 ml      Red   \n",
       "31            Il Molino di Grace    14%      750 ml      Red   \n",
       "32                       Sartori    15%      750 ml      Red   \n",
       "33                 Cantina Tollo  14.5%      750 ml      Red   \n",
       "34               Barone Ricasoli    14%      750 ml      Red   \n",
       "35               Barone Ricasoli    14%      750 ml      Red   \n",
       "36                      Cafaggio    14%      750 ml      Red   \n",
       "37             Fattoria Petriolo    14%      750 ml      Red   \n",
       "38                  Querciabella  13.5%      750 ml      Red   \n",
       "39                       Valiano  13.5%      750 ml      Red   \n",
       "\n",
       "                             importer review_date  \n",
       "0                           LUX Wines    3/1/2021  \n",
       "1               Vision Wine & Spirits    3/1/2021  \n",
       "2                 Integrity Wines LLC    3/1/2021  \n",
       "3                         Opici Wines    3/1/2021  \n",
       "4                          Vintus LLC    3/1/2021  \n",
       "5                      Empson USA Ltd    3/1/2021  \n",
       "6                        Vias Imports    3/1/2021  \n",
       "7                        Vias Imports    3/1/2021  \n",
       "8                        Vias Imports    3/1/2021  \n",
       "9                   Jan D'Amore Wines    3/1/2021  \n",
       "10                        Opici Wines    3/1/2021  \n",
       "11                            Winebow    3/1/2021  \n",
       "12           Serendipity Wine Imports    3/1/2021  \n",
       "13                       Ethica Wines    3/1/2021  \n",
       "14               Santa Margherita USA    3/1/2021  \n",
       "15           Bradley Alan Imports LLC    3/1/2021  \n",
       "16                     Pasqua USA LLC    3/1/2021  \n",
       "17                        LLS–Winebow    3/1/2021  \n",
       "18                 Polaner Selections    3/1/2021  \n",
       "19              Zev Rovine Selections    3/1/2021  \n",
       "20           Serendipity Wine Imports    3/1/2021  \n",
       "21                   Youngs Market Co    3/1/2021  \n",
       "22                 Wilson Daniels Ltd    3/1/2021  \n",
       "23                  Hill City Imports    3/1/2021  \n",
       "24                     Empson USA Ltd    3/1/2021  \n",
       "25             1_Not Imported into US    3/1/2021  \n",
       "26           Folio Fine Wine Partners    3/1/2021  \n",
       "27                 Classic Wines, Inc    3/1/2021  \n",
       "28                    Zerbina Imports    3/1/2021  \n",
       "29                       Tedeschi USA    3/1/2021  \n",
       "30                 Golden Ram Imports    3/1/2021  \n",
       "31                     Empson USA Ltd    3/1/2021  \n",
       "32  Shaw-Ross International Importers    3/1/2021  \n",
       "33                       Vino Veritas    3/1/2021  \n",
       "34           Folio Fine Wine Partners    3/1/2021  \n",
       "35           Folio Fine Wine Partners    3/1/2021  \n",
       "36                       Ethica Wines    3/1/2021  \n",
       "37                   Youngs Market Co    3/1/2021  \n",
       "38     Maisons Marques & Domaines USA    3/1/2021  \n",
       "39                        8 Vini, Inc    3/1/2021  "
      ]
     },
     "execution_count": 482,
     "metadata": {},
     "output_type": "execute_result"
    }
   ],
   "source": [
    "df"
   ]
  },
  {
   "cell_type": "code",
   "execution_count": 290,
   "metadata": {},
   "outputs": [
    {
     "data": {
      "text/plain": [
       "'Tenuta Lena di Mezzo'"
      ]
     },
     "execution_count": 290,
     "metadata": {},
     "output_type": "execute_result"
    }
   ],
   "source": [
    "driver.find_elements_by_xpath(\n",
    "        \"//div[@class='info medium-9 columns ']\")[1].text.strip()"
   ]
  },
  {
   "cell_type": "code",
   "execution_count": 301,
   "metadata": {},
   "outputs": [
    {
     "data": {
      "text/plain": [
       "'VARIETY'"
      ]
     },
     "execution_count": 301,
     "metadata": {},
     "output_type": "execute_result"
    }
   ],
   "source": [
    "driver.find_elements_by_xpath(\n",
    "        \"//div[@class='info-label medium-7 columns']\")[2].text.strip()"
   ]
  },
  {
   "cell_type": "code",
   "execution_count": 265,
   "metadata": {},
   "outputs": [
    {
     "data": {
      "text/plain": [
       "['Allegrini 2016 Amarone della Valpolicella Classico\\nCellar Selection',\n",
       " \"Monte del Frà 2016 Tenuta Lena di Mezzo (Amarone della Valpolicella Classico)\\nEditors' Choice\",\n",
       " 'Fattoria San Michele a Torri 2016 Tenuta La Gabbiola Riserva (Chianti Classico)',\n",
       " 'Cesari 2013 Il Bosco (Amarone della Valpolicella Classico)',\n",
       " \"Masciarelli 2015 Villa Gemma Riserva (Montepulciano d'Abruzzo)\\nCellar Selection\",\n",
       " \"Speri 2016 Sant'Urbano (Amarone della Valpolicella Classico)\",\n",
       " 'Davide Fregonese 2016 Riserva Rosso (Etna)',\n",
       " 'Castello dei Rampolla 2018 Chianti Classico',\n",
       " 'Giovanni Rosso 2017 Rosso (Etna)',\n",
       " \"Amorotti 2016 Montepulciano d'Abruzzo\",\n",
       " \"Cesari 2016 Amarone della Valpolicella Classico\\nEditors' Choice\",\n",
       " 'Zenato 2015 Sergio Zenato Riserva (Amarone della Valpolicella Classico)',\n",
       " \"Casa Emma 2018 Chianti Classico\\nEditors' Choice\",\n",
       " 'Nicolis 2015 Amarone della Valpolicella Classico',\n",
       " 'Masi 2015 Costasera (Amarone della Valpolicella Classico)',\n",
       " 'Castello Monterinaldi 2016 Vigneto Boscone (Chianti Classico)',\n",
       " \"Castello di Bossi 2016 Gran Selezione (Chianti Classico)\\nEditors' Choice\",\n",
       " 'Felsina 2017 Colonia Gran Selezione (Chianti Classico)',\n",
       " \"Pasqua 2015 Famiglia Pasqua (Amarone della Valpolicella)\\nEditors' Choice\",\n",
       " \"Francesco Cirelli 2018 Montepulciano d'Abruzzo\\nEditors' Choice\"]"
      ]
     },
     "execution_count": 265,
     "metadata": {},
     "output_type": "execute_result"
    }
   ],
   "source": [
    "title_inside"
   ]
  },
  {
   "cell_type": "code",
   "execution_count": 254,
   "metadata": {},
   "outputs": [],
   "source": [
    "link = driver.find_elements_by_class_name(\"see-full\")"
   ]
  },
  {
   "cell_type": "code",
   "execution_count": 1,
   "metadata": {},
   "outputs": [],
   "source": [
    "# link[0].click()"
   ]
  },
  {
   "cell_type": "code",
   "execution_count": 162,
   "metadata": {},
   "outputs": [
    {
     "data": {
      "text/plain": [
       "['Allegrini 2016 Amarone della Valpolicella Classico\\nCellar Selection',\n",
       " 'Allegrini 2016 Amarone della Valpolicella Classico\\nCellar Selection',\n",
       " 'Allegrini 2016 Amarone della Valpolicella Classico\\nCellar Selection',\n",
       " 'Allegrini 2016 Amarone della Valpolicella Classico\\nCellar Selection']"
      ]
     },
     "execution_count": 162,
     "metadata": {},
     "output_type": "execute_result"
    }
   ],
   "source": [
    "title_inside.append(driver.find_elements_by_class_name(\"header__title\")[0].text.strip())\n",
    "title_inside"
   ]
  },
  {
   "cell_type": "code",
   "execution_count": 135,
   "metadata": {},
   "outputs": [
    {
     "data": {
      "text/plain": [
       "[\"Speri 2016 Sant'Urbano (Amarone della Valpolicella Classico)\",\n",
       " 'Cesari 2013 Il Bosco (Amarone della Valpolicella Classico)',\n",
       " 'Vignobles Mousset-Barrot 2017 Château des Fines Roches Red (Châteauneuf-du-Pape)',\n",
       " 'Italian Amarone to Warm Up Your Winter',\n",
       " 'All the 100-Point Wines from Our Top Cellar Selections of 2020',\n",
       " 'The Best Wine Vintages to Drink in 2020',\n",
       " 'What is Straw Wine, Exactly?',\n",
       " \"A Beginner's Guide to the Wines of Veneto\",\n",
       " \"Speri 2016 Sant'Urbano (Amarone della Valpolicella Classico)\",\n",
       " 'Cesari 2013 Il Bosco (Amarone della Valpolicella Classico)',\n",
       " 'Vignobles Mousset-Barrot 2017 Château des Fines Roches Red (Châteauneuf-du-Pape)',\n",
       " 'Italian Amarone to Warm Up Your Winter',\n",
       " 'All the 100-Point Wines from Our Top Cellar Selections of 2020',\n",
       " 'The Best Wine Vintages to Drink in 2020',\n",
       " 'What is Straw Wine, Exactly?',\n",
       " \"A Beginner's Guide to the Wines of Veneto\",\n",
       " 'Allegrini 2016 Amarone della Valpolicella Classico',\n",
       " 'Monte del Frà 2016 Tenuta Lena di Mezzo (Amarone della Valpolicella Classico)',\n",
       " 'Fattoria San Michele a Torri 2016 Tenuta La Gabbiola Riserva (Chianti Classico)',\n",
       " 'Cesari 2013 Il Bosco (Amarone della Valpolicella Classico)',\n",
       " \"Masciarelli 2015 Villa Gemma Riserva (Montepulciano d'Abruzzo)\",\n",
       " \"Speri 2016 Sant'Urbano (Amarone della Valpolicella Classico)\",\n",
       " 'Davide Fregonese 2016 Riserva Rosso (Etna)',\n",
       " 'Castello dei Rampolla 2018 Chianti Classico',\n",
       " 'Giovanni Rosso 2017 Rosso (Etna)',\n",
       " \"Amorotti 2016 Montepulciano d'Abruzzo\",\n",
       " 'Cesari 2016 Amarone della Valpolicella Classico',\n",
       " 'Zenato 2015 Sergio Zenato Riserva (Amarone della Valpolicella Classico)',\n",
       " 'Casa Emma 2018 Chianti Classico',\n",
       " 'Nicolis 2015 Amarone della Valpolicella Classico',\n",
       " 'Masi 2015 Costasera (Amarone della Valpolicella Classico)',\n",
       " 'Castello Monterinaldi 2016 Vigneto Boscone (Chianti Classico)',\n",
       " 'Castello di Bossi 2016 Gran Selezione (Chianti Classico)',\n",
       " 'Felsina 2017 Colonia Gran Selezione (Chianti Classico)',\n",
       " 'Pasqua 2015 Famiglia Pasqua (Amarone della Valpolicella)',\n",
       " \"Francesco Cirelli 2018 Montepulciano d'Abruzzo\",\n",
       " 'Allegrini 2016 Amarone della Valpolicella Classico',\n",
       " 'Monte del Frà 2016 Tenuta Lena di Mezzo (Amarone della Valpolicella Classico)',\n",
       " 'Fattoria San Michele a Torri 2016 Tenuta La Gabbiola Riserva (Chianti Classico)',\n",
       " 'Cesari 2013 Il Bosco (Amarone della Valpolicella Classico)',\n",
       " \"Masciarelli 2015 Villa Gemma Riserva (Montepulciano d'Abruzzo)\",\n",
       " \"Speri 2016 Sant'Urbano (Amarone della Valpolicella Classico)\",\n",
       " 'Davide Fregonese 2016 Riserva Rosso (Etna)',\n",
       " 'Castello dei Rampolla 2018 Chianti Classico',\n",
       " 'Giovanni Rosso 2017 Rosso (Etna)',\n",
       " \"Amorotti 2016 Montepulciano d'Abruzzo\",\n",
       " 'Cesari 2016 Amarone della Valpolicella Classico',\n",
       " 'Zenato 2015 Sergio Zenato Riserva (Amarone della Valpolicella Classico)',\n",
       " 'Casa Emma 2018 Chianti Classico',\n",
       " 'Nicolis 2015 Amarone della Valpolicella Classico',\n",
       " 'Masi 2015 Costasera (Amarone della Valpolicella Classico)',\n",
       " 'Castello Monterinaldi 2016 Vigneto Boscone (Chianti Classico)',\n",
       " 'Castello di Bossi 2016 Gran Selezione (Chianti Classico)',\n",
       " 'Felsina 2017 Colonia Gran Selezione (Chianti Classico)',\n",
       " 'Pasqua 2015 Famiglia Pasqua (Amarone della Valpolicella)',\n",
       " \"Francesco Cirelli 2018 Montepulciano d'Abruzzo\",\n",
       " 'Allegrini 2016 Amarone della Valpolicella Classico',\n",
       " 'Monte del Frà 2016 Tenuta Lena di Mezzo (Amarone della Valpolicella Classico)',\n",
       " 'Fattoria San Michele a Torri 2016 Tenuta La Gabbiola Riserva (Chianti Classico)',\n",
       " 'Cesari 2013 Il Bosco (Amarone della Valpolicella Classico)',\n",
       " \"Masciarelli 2015 Villa Gemma Riserva (Montepulciano d'Abruzzo)\",\n",
       " \"Speri 2016 Sant'Urbano (Amarone della Valpolicella Classico)\",\n",
       " 'Davide Fregonese 2016 Riserva Rosso (Etna)',\n",
       " 'Castello dei Rampolla 2018 Chianti Classico',\n",
       " 'Giovanni Rosso 2017 Rosso (Etna)',\n",
       " \"Amorotti 2016 Montepulciano d'Abruzzo\",\n",
       " 'Cesari 2016 Amarone della Valpolicella Classico',\n",
       " 'Zenato 2015 Sergio Zenato Riserva (Amarone della Valpolicella Classico)',\n",
       " 'Casa Emma 2018 Chianti Classico',\n",
       " 'Nicolis 2015 Amarone della Valpolicella Classico',\n",
       " 'Masi 2015 Costasera (Amarone della Valpolicella Classico)',\n",
       " 'Castello Monterinaldi 2016 Vigneto Boscone (Chianti Classico)',\n",
       " 'Castello di Bossi 2016 Gran Selezione (Chianti Classico)',\n",
       " 'Felsina 2017 Colonia Gran Selezione (Chianti Classico)',\n",
       " 'Pasqua 2015 Famiglia Pasqua (Amarone della Valpolicella)',\n",
       " \"Francesco Cirelli 2018 Montepulciano d'Abruzzo\"]"
      ]
     },
     "execution_count": 135,
     "metadata": {},
     "output_type": "execute_result"
    }
   ],
   "source": [
    "for num_line in range(lenght_main_page):\n",
    "    if driver.find_elements_by_class_name(\n",
    "        \"title\")[num_line].text.strip() != '':\n",
    "        try:\n",
    "            title.append(driver.find_elements_by_class_name(\"title\")[num_line].text.strip())\n",
    "        except:\n",
    "            title.append(np.nan)\n",
    "title            "
   ]
  },
  {
   "cell_type": "code",
   "execution_count": 68,
   "metadata": {},
   "outputs": [
    {
     "data": {
      "text/plain": [
       "20"
      ]
     },
     "execution_count": 68,
     "metadata": {},
     "output_type": "execute_result"
    }
   ],
   "source": [
    "link = driver.find_elements_by_class_name(\"see-full\")\n",
    "len(link)"
   ]
  },
  {
   "cell_type": "code",
   "execution_count": 38,
   "metadata": {},
   "outputs": [
    {
     "data": {
      "text/plain": [
       "''"
      ]
     },
     "execution_count": 38,
     "metadata": {},
     "output_type": "execute_result"
    }
   ],
   "source": [
    "driver.find_elements_by_class_name(\"title\")[0].text.strip()"
   ]
  },
  {
   "cell_type": "code",
   "execution_count": 39,
   "metadata": {},
   "outputs": [
    {
     "data": {
      "text/plain": [
       "'Allegrini 2016 Amarone della Valpolicella Classico'"
      ]
     },
     "execution_count": 39,
     "metadata": {},
     "output_type": "execute_result"
    }
   ],
   "source": [
    "driver.find_elements_by_class_name(\"title\")[1].text.strip()"
   ]
  },
  {
   "cell_type": "code",
   "execution_count": 35,
   "metadata": {},
   "outputs": [
    {
     "data": {
      "text/plain": [
       "''"
      ]
     },
     "execution_count": 35,
     "metadata": {},
     "output_type": "execute_result"
    }
   ],
   "source": [
    "driver.find_elements_by_class_name(\"title\")[2].text.strip()"
   ]
  },
  {
   "cell_type": "code",
   "execution_count": 32,
   "metadata": {},
   "outputs": [
    {
     "data": {
      "text/plain": [
       "'Monte del Frà 2016 Tenuta Lena di Mezzo (Amarone della Valpolicella Classico)'"
      ]
     },
     "execution_count": 32,
     "metadata": {},
     "output_type": "execute_result"
    }
   ],
   "source": [
    "driver.find_elements_by_class_name(\"title\")[3].text.strip()"
   ]
  },
  {
   "cell_type": "code",
   "execution_count": null,
   "metadata": {},
   "outputs": [],
   "source": []
  },
  {
   "cell_type": "markdown",
   "metadata": {},
   "source": [
    "I WILL START THE SCRAPING FROM HERE:"
   ]
  },
  {
   "cell_type": "code",
   "execution_count": 283,
   "metadata": {},
   "outputs": [
    {
     "data": {
      "text/plain": [
       "['Allegrini 2016 Amarone della Valpolicella Classico']"
      ]
     },
     "execution_count": 283,
     "metadata": {},
     "output_type": "execute_result"
    }
   ],
   "source": [
    "title= []\n",
    "try:\n",
    "    title.append(driver.find_elements_by_class_name(\"title\")[1].text.strip())\n",
    "except:\n",
    "    title.append(np.nan)\n",
    "title"
   ]
  },
  {
   "cell_type": "code",
   "execution_count": 292,
   "metadata": {},
   "outputs": [
    {
     "data": {
      "text/plain": [
       "'F'"
      ]
     },
     "execution_count": 292,
     "metadata": {},
     "output_type": "execute_result"
    }
   ],
   "source": [
    "i.text.strip()[0]"
   ]
  },
  {
   "cell_type": "code",
   "execution_count": 295,
   "metadata": {},
   "outputs": [],
   "source": [
    "# for i in driver.find_elements_by_class_name(\"title\"):\n",
    "#     print(i.text.strip())"
   ]
  },
  {
   "cell_type": "code",
   "execution_count": 297,
   "metadata": {},
   "outputs": [
    {
     "data": {
      "text/plain": [
       "'Allegrini 2016 Amarone della Valpolicella Classico'"
      ]
     },
     "execution_count": 297,
     "metadata": {},
     "output_type": "execute_result"
    }
   ],
   "source": [
    "driver.find_elements_by_class_name(\"title\")[1].text.strip()"
   ]
  },
  {
   "cell_type": "code",
   "execution_count": 298,
   "metadata": {},
   "outputs": [
    {
     "data": {
      "text/plain": [
       "''"
      ]
     },
     "execution_count": 298,
     "metadata": {},
     "output_type": "execute_result"
    }
   ],
   "source": [
    "driver.find_elements_by_class_name(\"title\")[2].text.strip()"
   ]
  },
  {
   "cell_type": "code",
   "execution_count": 299,
   "metadata": {},
   "outputs": [
    {
     "data": {
      "text/plain": [
       "'Monte del Frà 2016 Tenuta Lena di Mezzo (Amarone della Valpolicella Classico)'"
      ]
     },
     "execution_count": 299,
     "metadata": {},
     "output_type": "execute_result"
    }
   ],
   "source": [
    "driver.find_elements_by_class_name(\"title\")[3].text.strip()"
   ]
  },
  {
   "cell_type": "code",
   "execution_count": 166,
   "metadata": {},
   "outputs": [],
   "source": [
    "link = driver.find_elements_by_class_name(\"see-full\")"
   ]
  },
  {
   "cell_type": "code",
   "execution_count": 167,
   "metadata": {},
   "outputs": [],
   "source": [
    "link[0].click()"
   ]
  },
  {
   "cell_type": "code",
   "execution_count": 177,
   "metadata": {},
   "outputs": [
    {
     "data": {
      "text/plain": [
       "['Allegrini 2016 Amarone della Valpolicella Classico\\nCellar Selection']"
      ]
     },
     "execution_count": 177,
     "metadata": {},
     "output_type": "execute_result"
    }
   ],
   "source": [
    "title_inside= []\n",
    "try:\n",
    "    title_inside.append(driver.find_elements_by_class_name(\"header__title\")[0].text.strip())\n",
    "except:\n",
    "    title_inside.append(np.nan)\n",
    "title_inside"
   ]
  },
  {
   "cell_type": "code",
   "execution_count": 169,
   "metadata": {},
   "outputs": [
    {
     "data": {
      "text/plain": [
       "['Ripe plum, blue flower and spice aromas lift out of the glass in this full-bodied red. The smooth, concentrated palate boasts a weightless elegance, delivering blackberry compote, ripe Morello cherry, licorice and baking spice framed in enveloping, velvety tannins. Drink 2022–2031. KERIN O’KEEFE']"
      ]
     },
     "execution_count": 169,
     "metadata": {},
     "output_type": "execute_result"
    }
   ],
   "source": [
    "review=[]\n",
    "try:\n",
    "    review.append(driver.find_elements_by_class_name(\"description\")[0].text.strip())\n",
    "except:\n",
    "    review.append(np.nan)\n",
    "review\n"
   ]
  },
  {
   "cell_type": "code",
   "execution_count": 170,
   "metadata": {},
   "outputs": [
    {
     "data": {
      "text/plain": [
       "['KERIN O’KEEFE']"
      ]
     },
     "execution_count": 170,
     "metadata": {},
     "output_type": "execute_result"
    }
   ],
   "source": [
    "taster=[]\n",
    "try:\n",
    "    taster.append(driver.find_elements_by_class_name(\"taster-area\")[0].text.strip())\n",
    "except:\n",
    "    taster.append(np.nan)\n",
    "taster"
   ]
  },
  {
   "cell_type": "code",
   "execution_count": 171,
   "metadata": {},
   "outputs": [
    {
     "data": {
      "text/plain": [
       "['95']"
      ]
     },
     "execution_count": 171,
     "metadata": {},
     "output_type": "execute_result"
    }
   ],
   "source": [
    "rating=[]\n",
    "try:\n",
    "    rating.append(driver.find_elements_by_xpath(\n",
    "    \"//div[@class='info medium-9 columns rating']\")[0].text.strip())\n",
    "except:\n",
    "    rating.append(np.nan)\n",
    "rating"
   ]
  },
  {
   "cell_type": "code",
   "execution_count": 130,
   "metadata": {},
   "outputs": [
    {
     "data": {
      "text/plain": [
       "['$85,BUY NOW']"
      ]
     },
     "execution_count": 130,
     "metadata": {},
     "output_type": "execute_result"
    }
   ],
   "source": [
    "price=[]\n",
    "try:\n",
    "    price.append(driver.find_elements_by_xpath(\n",
    "    \"//div[@class='info medium-9 columns ']\")[0].text.strip())\n",
    "except:\n",
    "    price.append(np.nan)\n",
    "price\n"
   ]
  },
  {
   "cell_type": "code",
   "execution_count": 268,
   "metadata": {},
   "outputs": [],
   "source": [
    "# desig = driver.find_elements_by_xpath(\n",
    "#     \"//div[@class='info medum-9 columns ']\")\n",
    "# desig.text"
   ]
  },
  {
   "cell_type": "code",
   "execution_count": 172,
   "metadata": {},
   "outputs": [
    {
     "data": {
      "text/plain": [
       "['Red Blends, Red Blends']"
      ]
     },
     "execution_count": 172,
     "metadata": {},
     "output_type": "execute_result"
    }
   ],
   "source": [
    "# variety = driver.find_elements_by_xpath(\n",
    "#     \"//div[@class='info medium-9 columns ']\")\n",
    "# variety[2].text\n",
    "\n",
    "variety=[]\n",
    "try:\n",
    "    variety.append(driver.find_elements_by_xpath(\n",
    "    \"//div[@class='info medium-9 columns ']\")[1].text.strip())\n",
    "except:\n",
    "    variety.append(np.nan)\n",
    "variety"
   ]
  },
  {
   "cell_type": "code",
   "execution_count": 173,
   "metadata": {},
   "outputs": [
    {
     "data": {
      "text/plain": [
       "['Amarone della Valpolicella Classico, Veneto, Italy']"
      ]
     },
     "execution_count": 173,
     "metadata": {},
     "output_type": "execute_result"
    }
   ],
   "source": [
    "# appellation = driver.find_elements_by_xpath(\n",
    "#     \"//div[@class='info medium-9 columns ']\")\n",
    "# appellation[3].text\n",
    "\n",
    "appellation=[]\n",
    "try:\n",
    "    appellation.append(driver.find_elements_by_xpath(\n",
    "    \"//div[@class='info medium-9 columns ']\")[2].text.strip())\n",
    "except:\n",
    "    appellation.append(np.nan)\n",
    "appellation"
   ]
  },
  {
   "cell_type": "code",
   "execution_count": 174,
   "metadata": {},
   "outputs": [
    {
     "data": {
      "text/plain": [
       "['Allegrini']"
      ]
     },
     "execution_count": 174,
     "metadata": {},
     "output_type": "execute_result"
    }
   ],
   "source": [
    "# winery= driver.find_elements_by_xpath(\n",
    "#     \"//div[@class='info medium-9 columns ']\")\n",
    "# winery[4].text\n",
    "\n",
    "winery=[]\n",
    "try:\n",
    "    winery.append(driver.find_elements_by_xpath(\n",
    "    \"//div[@class='info medium-9 columns ']\")[3].text.strip())\n",
    "except:\n",
    "    winery.append(np.nan)\n",
    "winery"
   ]
  },
  {
   "cell_type": "code",
   "execution_count": 175,
   "metadata": {},
   "outputs": [
    {
     "data": {
      "text/plain": [
       "['15.5%']"
      ]
     },
     "execution_count": 175,
     "metadata": {},
     "output_type": "execute_result"
    }
   ],
   "source": [
    "alc=[]\n",
    "try:\n",
    "    alc.append(driver.find_elements_by_xpath(\n",
    "    \"//div[@class='info small-9 columns']\")[0].text.strip())\n",
    "except:\n",
    "    alc.append(np.nan)\n",
    "alc"
   ]
  },
  {
   "cell_type": "code",
   "execution_count": 276,
   "metadata": {},
   "outputs": [
    {
     "data": {
      "text/plain": [
       "['750 ml']"
      ]
     },
     "execution_count": 276,
     "metadata": {},
     "output_type": "execute_result"
    }
   ],
   "source": [
    "bot=[]\n",
    "try:\n",
    "    bot.append(driver.find_elements_by_xpath(\n",
    "    \"//div[@class='info small-9 columns']\")[1].text.strip())\n",
    "except:\n",
    "    bot.append(np.nan)\n",
    "bot\n"
   ]
  },
  {
   "cell_type": "code",
   "execution_count": 277,
   "metadata": {},
   "outputs": [
    {
     "data": {
      "text/plain": [
       "['Red']"
      ]
     },
     "execution_count": 277,
     "metadata": {},
     "output_type": "execute_result"
    }
   ],
   "source": [
    "category=[]\n",
    "try:\n",
    "    category.append(driver.find_elements_by_xpath(\n",
    "    \"//div[@class='info small-9 columns']\")[2].text.strip())\n",
    "except:\n",
    "    category.append(np.nan)\n",
    "category\n"
   ]
  },
  {
   "cell_type": "code",
   "execution_count": 279,
   "metadata": {},
   "outputs": [
    {
     "data": {
      "text/plain": [
       "['LUX Wines']"
      ]
     },
     "execution_count": 279,
     "metadata": {},
     "output_type": "execute_result"
    }
   ],
   "source": [
    "importer=[]\n",
    "try:\n",
    "    importer.append(driver.find_elements_by_xpath(\n",
    "    \"//div[@class='info small-9 columns']\")[3].text.strip())\n",
    "except:\n",
    "    importer.append(np.nan)\n",
    "importer"
   ]
  },
  {
   "cell_type": "code",
   "execution_count": 278,
   "metadata": {},
   "outputs": [
    {
     "data": {
      "text/plain": [
       "['3/1/2021']"
      ]
     },
     "execution_count": 278,
     "metadata": {},
     "output_type": "execute_result"
    }
   ],
   "source": [
    "date_published=[]\n",
    "try:\n",
    "    date_published.append(driver.find_elements_by_xpath(\n",
    "    \"//div[@class='info small-9 columns']\")[4].text.strip())\n",
    "except:\n",
    "    date_published.append(np.nan)\n",
    "date_published"
   ]
  },
  {
   "cell_type": "code",
   "execution_count": 281,
   "metadata": {},
   "outputs": [
    {
     "data": {
      "text/plain": [
       "['Not rated yet [Add Your Review]']"
      ]
     },
     "execution_count": 281,
     "metadata": {},
     "output_type": "execute_result"
    }
   ],
   "source": [
    "user_rating=[]\n",
    "try:\n",
    "    user_rating.append(driver.find_elements_by_xpath(\n",
    "    \"//div[@class='info small-9 columns']\")[5].text.strip())\n",
    "except:\n",
    "    user_rating.append(np.nan)\n",
    "user_rating"
   ]
  },
  {
   "cell_type": "code",
   "execution_count": 282,
   "metadata": {},
   "outputs": [],
   "source": [
    "driver.back()"
   ]
  },
  {
   "cell_type": "code",
   "execution_count": null,
   "metadata": {},
   "outputs": [],
   "source": []
  },
  {
   "cell_type": "code",
   "execution_count": null,
   "metadata": {},
   "outputs": [],
   "source": []
  },
  {
   "cell_type": "code",
   "execution_count": null,
   "metadata": {},
   "outputs": [],
   "source": []
  },
  {
   "cell_type": "code",
   "execution_count": null,
   "metadata": {},
   "outputs": [],
   "source": []
  },
  {
   "cell_type": "code",
   "execution_count": null,
   "metadata": {},
   "outputs": [],
   "source": []
  },
  {
   "cell_type": "code",
   "execution_count": null,
   "metadata": {},
   "outputs": [],
   "source": []
  },
  {
   "cell_type": "code",
   "execution_count": null,
   "metadata": {},
   "outputs": [],
   "source": []
  }
 ],
 "metadata": {
  "kernelspec": {
   "display_name": "Python 3",
   "language": "python",
   "name": "python3"
  },
  "language_info": {
   "codemirror_mode": {
    "name": "ipython",
    "version": 3
   },
   "file_extension": ".py",
   "mimetype": "text/x-python",
   "name": "python",
   "nbconvert_exporter": "python",
   "pygments_lexer": "ipython3",
   "version": "3.8.5"
  }
 },
 "nbformat": 4,
 "nbformat_minor": 4
}
